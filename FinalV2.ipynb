{
 "cells": [
  {
   "cell_type": "code",
   "execution_count": 1,
   "metadata": {},
   "outputs": [],
   "source": [
    "import numpy as np\n",
    "import pandas as pd\n",
    "import matplotlib.pyplot as plt\n",
    "%matplotlib inline\n",
    "import seaborn as sns\n",
    "from scipy import stats\n",
    "\n",
    "\n",
    "import warnings\n",
    "warnings.filterwarnings('ignore')\n"
   ]
  },
  {
   "cell_type": "code",
   "execution_count": 2,
   "metadata": {},
   "outputs": [],
   "source": [
    "#Importing dataset\n",
    "\n",
    "train = pd.read_csv('zillow/train.csv')\n",
    "\n",
    "#Test for evaluation\n",
    "test = pd.read_csv('zillow/test.csv')"
   ]
  },
  {
   "cell_type": "code",
   "execution_count": 3,
   "metadata": {},
   "outputs": [
    {
     "name": "stdout",
     "output_type": "stream",
     "text": [
      "Shape before removal  (1460, 81)\n",
      "Shape after removal  (1455, 81)\n"
     ]
    }
   ],
   "source": [
    "#Outlier removal\n",
    "\n",
    "print(\"Shape before removal \", train.shape)\n",
    "#train.drop(train[(train['OverallQual']<5) & (train['SalePrice']>200000)].index, inplace=True)\n",
    "train.drop(train[(train['GrLivArea']>3100) & (train['SalePrice']<300000)].index, inplace=True)\n",
    "print(\"Shape after removal \", train.shape)"
   ]
  },
  {
   "cell_type": "code",
   "execution_count": 4,
   "metadata": {},
   "outputs": [],
   "source": [
    "#Fixing typo\n",
    "\n",
    "df_train = train.replace({\"Exterior2nd\":{\"CmentBd\":\"CemntBd\"}})\n",
    "\n",
    "#Saving Id for further refference\n",
    "Id = df_train['Id']\n",
    "\n",
    "#Dropping Id from dataset\n",
    "df_train.drop('Id', axis=1, inplace=True)  #For feature engeneering"
   ]
  },
  {
   "cell_type": "code",
   "execution_count": 5,
   "metadata": {},
   "outputs": [],
   "source": [
    "#Function that split dataset to numerical and textual and check for missing values\n",
    "\n",
    "def missing_numcat(data, categorical=True):\n",
    "    \"\"\"This function splits dataset into numerical and textual portion of the data and make dataframe with missing values\"\"\"\n",
    "    if categorical:\n",
    "        categorical_text = data.select_dtypes(include='object')\n",
    "        categorical_cnt = categorical_text.count()\n",
    "        cat_with_missing = categorical_cnt[categorical_cnt.values < len(data)]\n",
    "        cat_percent =  (len(data) - cat_with_missing.values) / len(data)\n",
    "        missing_categorical =pd.DataFrame({'values': cat_with_missing,\n",
    "                                  'NaN vals':(len(data) - cat_with_missing.values), '(%) NaN':cat_percent})\n",
    "        return missing_categorical\n",
    "    else:\n",
    "        numerical_data = data._get_numeric_data()\n",
    "        numerical_cnt = numerical_data.count()\n",
    "        num_with_missing = numerical_cnt[numerical_cnt.values < len(data)]\n",
    "        num_percent =  (len(data) - num_with_missing.values) / len(data)\n",
    "        missing_numerical =pd.DataFrame({'values': num_with_missing,\n",
    "                                          'NaN vals':(len(data) - num_with_missing.values), '(%) NaN':num_percent}) \n",
    "        return missing_numerical\n",
    "    \n",
    "    \n",
    "    \n",
    "#Function that fixes skewnes\n",
    "from scipy.stats import skew\n",
    "def fix_skew(c):\n",
    "    \"\"\"This function takes only numeric portion of the dataset and fix skewnes\"\"\"\n",
    "    numeric_feats = c.dtypes[c.dtypes != \"object\"].index\n",
    "\n",
    "    skewed_feats = c[numeric_feats].apply(lambda x: skew(x.dropna())) #compute skewness\n",
    "    skewed_feats = skewed_feats[skewed_feats > 0.75]\n",
    "    skewed_feats = skewed_feats.index\n",
    "\n",
    "    c[skewed_feats] = np.log1p(c[skewed_feats])\n",
    "    return c    "
   ]
  },
  {
   "cell_type": "code",
   "execution_count": 6,
   "metadata": {},
   "outputs": [],
   "source": [
    "cat_missing = missing_numcat(df_train, categorical=True)\n",
    "num_missing = missing_numcat(df_train, categorical=False)"
   ]
  },
  {
   "cell_type": "code",
   "execution_count": 7,
   "metadata": {},
   "outputs": [
    {
     "data": {
      "text/html": [
       "<div>\n",
       "<style scoped>\n",
       "    .dataframe tbody tr th:only-of-type {\n",
       "        vertical-align: middle;\n",
       "    }\n",
       "\n",
       "    .dataframe tbody tr th {\n",
       "        vertical-align: top;\n",
       "    }\n",
       "\n",
       "    .dataframe thead th {\n",
       "        text-align: right;\n",
       "    }\n",
       "</style>\n",
       "<table border=\"1\" class=\"dataframe\">\n",
       "  <thead>\n",
       "    <tr style=\"text-align: right;\">\n",
       "      <th></th>\n",
       "      <th>values</th>\n",
       "      <th>NaN vals</th>\n",
       "      <th>(%) NaN</th>\n",
       "    </tr>\n",
       "  </thead>\n",
       "  <tbody>\n",
       "    <tr>\n",
       "      <td>Alley</td>\n",
       "      <td>90</td>\n",
       "      <td>1365</td>\n",
       "      <td>0.938144</td>\n",
       "    </tr>\n",
       "    <tr>\n",
       "      <td>MasVnrType</td>\n",
       "      <td>1447</td>\n",
       "      <td>8</td>\n",
       "      <td>0.005498</td>\n",
       "    </tr>\n",
       "    <tr>\n",
       "      <td>BsmtQual</td>\n",
       "      <td>1418</td>\n",
       "      <td>37</td>\n",
       "      <td>0.025430</td>\n",
       "    </tr>\n",
       "    <tr>\n",
       "      <td>BsmtCond</td>\n",
       "      <td>1418</td>\n",
       "      <td>37</td>\n",
       "      <td>0.025430</td>\n",
       "    </tr>\n",
       "    <tr>\n",
       "      <td>BsmtExposure</td>\n",
       "      <td>1417</td>\n",
       "      <td>38</td>\n",
       "      <td>0.026117</td>\n",
       "    </tr>\n",
       "    <tr>\n",
       "      <td>BsmtFinType1</td>\n",
       "      <td>1418</td>\n",
       "      <td>37</td>\n",
       "      <td>0.025430</td>\n",
       "    </tr>\n",
       "    <tr>\n",
       "      <td>BsmtFinType2</td>\n",
       "      <td>1417</td>\n",
       "      <td>38</td>\n",
       "      <td>0.026117</td>\n",
       "    </tr>\n",
       "    <tr>\n",
       "      <td>Electrical</td>\n",
       "      <td>1454</td>\n",
       "      <td>1</td>\n",
       "      <td>0.000687</td>\n",
       "    </tr>\n",
       "    <tr>\n",
       "      <td>FireplaceQu</td>\n",
       "      <td>766</td>\n",
       "      <td>689</td>\n",
       "      <td>0.473540</td>\n",
       "    </tr>\n",
       "    <tr>\n",
       "      <td>GarageType</td>\n",
       "      <td>1375</td>\n",
       "      <td>80</td>\n",
       "      <td>0.054983</td>\n",
       "    </tr>\n",
       "    <tr>\n",
       "      <td>GarageFinish</td>\n",
       "      <td>1375</td>\n",
       "      <td>80</td>\n",
       "      <td>0.054983</td>\n",
       "    </tr>\n",
       "    <tr>\n",
       "      <td>GarageQual</td>\n",
       "      <td>1375</td>\n",
       "      <td>80</td>\n",
       "      <td>0.054983</td>\n",
       "    </tr>\n",
       "    <tr>\n",
       "      <td>GarageCond</td>\n",
       "      <td>1375</td>\n",
       "      <td>80</td>\n",
       "      <td>0.054983</td>\n",
       "    </tr>\n",
       "    <tr>\n",
       "      <td>PoolQC</td>\n",
       "      <td>5</td>\n",
       "      <td>1450</td>\n",
       "      <td>0.996564</td>\n",
       "    </tr>\n",
       "    <tr>\n",
       "      <td>Fence</td>\n",
       "      <td>280</td>\n",
       "      <td>1175</td>\n",
       "      <td>0.807560</td>\n",
       "    </tr>\n",
       "    <tr>\n",
       "      <td>MiscFeature</td>\n",
       "      <td>54</td>\n",
       "      <td>1401</td>\n",
       "      <td>0.962887</td>\n",
       "    </tr>\n",
       "  </tbody>\n",
       "</table>\n",
       "</div>"
      ],
      "text/plain": [
       "              values  NaN vals   (%) NaN\n",
       "Alley             90      1365  0.938144\n",
       "MasVnrType      1447         8  0.005498\n",
       "BsmtQual        1418        37  0.025430\n",
       "BsmtCond        1418        37  0.025430\n",
       "BsmtExposure    1417        38  0.026117\n",
       "BsmtFinType1    1418        37  0.025430\n",
       "BsmtFinType2    1417        38  0.026117\n",
       "Electrical      1454         1  0.000687\n",
       "FireplaceQu      766       689  0.473540\n",
       "GarageType      1375        80  0.054983\n",
       "GarageFinish    1375        80  0.054983\n",
       "GarageQual      1375        80  0.054983\n",
       "GarageCond      1375        80  0.054983\n",
       "PoolQC             5      1450  0.996564\n",
       "Fence            280      1175  0.807560\n",
       "MiscFeature       54      1401  0.962887"
      ]
     },
     "execution_count": 7,
     "metadata": {},
     "output_type": "execute_result"
    }
   ],
   "source": [
    "#Missing data on cathegorical /Training\n",
    "\n",
    "cat_missing "
   ]
  },
  {
   "cell_type": "code",
   "execution_count": 8,
   "metadata": {},
   "outputs": [
    {
     "data": {
      "text/plain": [
       "Index(['MSSubClass', 'MSZoning', 'LotFrontage', 'LotArea', 'Street', 'Alley',\n",
       "       'LotShape', 'LandContour', 'Utilities', 'LotConfig', 'LandSlope',\n",
       "       'Neighborhood', 'Condition1', 'Condition2', 'BldgType', 'HouseStyle',\n",
       "       'OverallQual', 'OverallCond', 'YearBuilt', 'YearRemodAdd', 'RoofStyle',\n",
       "       'RoofMatl', 'Exterior1st', 'Exterior2nd', 'MasVnrType', 'MasVnrArea',\n",
       "       'ExterQual', 'ExterCond', 'Foundation', 'BsmtQual', 'BsmtCond',\n",
       "       'BsmtExposure', 'BsmtFinType1', 'BsmtFinSF1', 'BsmtFinType2',\n",
       "       'BsmtFinSF2', 'BsmtUnfSF', 'TotalBsmtSF', 'Heating', 'HeatingQC',\n",
       "       'CentralAir', 'Electrical', '1stFlrSF', '2ndFlrSF', 'LowQualFinSF',\n",
       "       'GrLivArea', 'BsmtFullBath', 'BsmtHalfBath', 'FullBath', 'HalfBath',\n",
       "       'BedroomAbvGr', 'KitchenAbvGr', 'KitchenQual', 'TotRmsAbvGrd',\n",
       "       'Functional', 'Fireplaces', 'FireplaceQu', 'GarageType', 'GarageYrBlt',\n",
       "       'GarageFinish', 'GarageCars', 'GarageArea', 'GarageQual', 'GarageCond',\n",
       "       'PavedDrive', 'WoodDeckSF', 'OpenPorchSF', 'EnclosedPorch', '3SsnPorch',\n",
       "       'ScreenPorch', 'PoolArea', 'PoolQC', 'Fence', 'MiscFeature', 'MiscVal',\n",
       "       'MoSold', 'YrSold', 'SaleType', 'SaleCondition', 'SalePrice'],\n",
       "      dtype='object')"
      ]
     },
     "execution_count": 8,
     "metadata": {},
     "output_type": "execute_result"
    }
   ],
   "source": [
    "df_train.columns"
   ]
  },
  {
   "cell_type": "code",
   "execution_count": 9,
   "metadata": {},
   "outputs": [],
   "source": [
    "#According to the documentation these cathegorical features should have No feature as string instead nan values\n",
    "df_train['Alley'] = df_train['Alley'].fillna('No Alley Access')\n",
    "df_train['BsmtQual'] = df_train['BsmtQual'].fillna('No Basement')\n",
    "df_train['BsmtCond'] = df_train['BsmtCond'].fillna('No Basement')\n",
    "df_train['BsmtExposure'] = df_train['BsmtExposure'].fillna('No Basement')\n",
    "df_train['BsmtFinType1'] = df_train['BsmtFinType1'].fillna('No Basement')\n",
    "df_train['BsmtFinType2'] = df_train['BsmtFinType2'].fillna('No Basement')\n",
    "df_train['FireplaceQu'] = df_train['FireplaceQu'].fillna('No Fireplace')\n",
    "df_train['GarageType']  = df_train['GarageType'].fillna('No Garage')\n",
    "df_train['GarageFinish'] = df_train['GarageFinish'].fillna('No Garage')\n",
    "df_train['GarageQual'] = df_train['GarageQual'].fillna('No Garage')\n",
    "df_train['GarageCond'] = df_train['GarageCond'].fillna('No Garage')\n",
    "df_train['PoolQC'] = df_train['PoolQC'].fillna('No Pool')\n",
    "df_train['Fence'] = df_train['Fence'].fillna('NoFence')\n",
    "df_train['MiscFeature'] = df_train['MiscFeature'].fillna('No msc feature')\n",
    "df_train['MasVnrType'] = df_train['MasVnrType'].fillna('No Veneer')"
   ]
  },
  {
   "cell_type": "code",
   "execution_count": 10,
   "metadata": {},
   "outputs": [
    {
     "data": {
      "text/html": [
       "<div>\n",
       "<style scoped>\n",
       "    .dataframe tbody tr th:only-of-type {\n",
       "        vertical-align: middle;\n",
       "    }\n",
       "\n",
       "    .dataframe tbody tr th {\n",
       "        vertical-align: top;\n",
       "    }\n",
       "\n",
       "    .dataframe thead th {\n",
       "        text-align: right;\n",
       "    }\n",
       "</style>\n",
       "<table border=\"1\" class=\"dataframe\">\n",
       "  <thead>\n",
       "    <tr style=\"text-align: right;\">\n",
       "      <th></th>\n",
       "      <th>values</th>\n",
       "      <th>NaN vals</th>\n",
       "      <th>(%) NaN</th>\n",
       "    </tr>\n",
       "  </thead>\n",
       "  <tbody>\n",
       "    <tr>\n",
       "      <td>Electrical</td>\n",
       "      <td>1454</td>\n",
       "      <td>1</td>\n",
       "      <td>0.000687</td>\n",
       "    </tr>\n",
       "  </tbody>\n",
       "</table>\n",
       "</div>"
      ],
      "text/plain": [
       "            values  NaN vals   (%) NaN\n",
       "Electrical    1454         1  0.000687"
      ]
     },
     "execution_count": 10,
     "metadata": {},
     "output_type": "execute_result"
    }
   ],
   "source": [
    "#Check after imputation\n",
    "missing_numcat(df_train, categorical=True)"
   ]
  },
  {
   "cell_type": "code",
   "execution_count": 11,
   "metadata": {},
   "outputs": [
    {
     "data": {
      "text/html": [
       "<div>\n",
       "<style scoped>\n",
       "    .dataframe tbody tr th:only-of-type {\n",
       "        vertical-align: middle;\n",
       "    }\n",
       "\n",
       "    .dataframe tbody tr th {\n",
       "        vertical-align: top;\n",
       "    }\n",
       "\n",
       "    .dataframe thead th {\n",
       "        text-align: right;\n",
       "    }\n",
       "</style>\n",
       "<table border=\"1\" class=\"dataframe\">\n",
       "  <thead>\n",
       "    <tr style=\"text-align: right;\">\n",
       "      <th></th>\n",
       "      <th>values</th>\n",
       "      <th>NaN vals</th>\n",
       "      <th>(%) NaN</th>\n",
       "    </tr>\n",
       "  </thead>\n",
       "  <tbody>\n",
       "    <tr>\n",
       "      <td>LotFrontage</td>\n",
       "      <td>1196</td>\n",
       "      <td>259</td>\n",
       "      <td>0.178007</td>\n",
       "    </tr>\n",
       "    <tr>\n",
       "      <td>MasVnrArea</td>\n",
       "      <td>1447</td>\n",
       "      <td>8</td>\n",
       "      <td>0.005498</td>\n",
       "    </tr>\n",
       "    <tr>\n",
       "      <td>GarageYrBlt</td>\n",
       "      <td>1375</td>\n",
       "      <td>80</td>\n",
       "      <td>0.054983</td>\n",
       "    </tr>\n",
       "  </tbody>\n",
       "</table>\n",
       "</div>"
      ],
      "text/plain": [
       "             values  NaN vals   (%) NaN\n",
       "LotFrontage    1196       259  0.178007\n",
       "MasVnrArea     1447         8  0.005498\n",
       "GarageYrBlt    1375        80  0.054983"
      ]
     },
     "execution_count": 11,
     "metadata": {},
     "output_type": "execute_result"
    }
   ],
   "source": [
    "#Check for missing values in  numerical portion of the data\n",
    "num_missing"
   ]
  },
  {
   "cell_type": "code",
   "execution_count": 12,
   "metadata": {},
   "outputs": [],
   "source": [
    "def nnous_sel(df):\n",
    "    \"\"\"This function dedect non informative features with more than 90 % zeros\"\"\"\n",
    "    nn_cols = df.loc[:, (df.isin([' ','NULL',0]) | df.isnull()).mean() <= 0.9].columns.tolist()\n",
    "    col_tdrop = set(df.columns.tolist()) - set(nn_cols)\n",
    "    return df"
   ]
  },
  {
   "cell_type": "raw",
   "metadata": {},
   "source": [
    "#Adding new features to train set\n",
    "df_train['TotalArea'] = df_train['TotalBsmtSF'] + df_train['1stFlrSF'] + df_train['2ndFlrSF'] + df_train['GrLivArea'] +df_train['GarageArea']\n",
    "df_train['Bathrooms'] = df_train['FullBath'] + df_train['HalfBath']*0.5 \n",
    "df_train['Year average']= (df_train['YearRemodAdd']+df_train['YearBuilt'])/2\n",
    "df_train['AreaAboveGrade'] = df_train['1stFlrSF'] + df_train['2ndFlrSF']\n",
    "df_train['BsmPlGarage'] = df_train['TotalBsmtSF']+df_train['GarageArea']\n",
    "df_train['Areas'] = (df_train['GrLivArea'] + df_train['AreaAboveGrade'])/2\n",
    "\n",
    "\n",
    "\n",
    "\n",
    "#Adding features to test\n",
    "test['TotalArea'] = test['TotalBsmtSF'] + test['1stFlrSF'] + test['2ndFlrSF'] + test['GrLivArea'] +test['GarageArea']\n",
    "test['Bathrooms'] = test['FullBath'] + test['HalfBath']*0.5 \n",
    "test['Year average']= (test['YearRemodAdd']+test['YearBuilt'])/2\n",
    "test['AreaAboveGrade'] = test['1stFlrSF'] + test['2ndFlrSF']\n",
    "test['BsmPlGarage'] = test['TotalBsmtSF']+test['GarageArea']\n",
    "test['Areas'] = (test['GrLivArea'] + test['AreaAboveGrade'])/2"
   ]
  },
  {
   "cell_type": "code",
   "execution_count": 13,
   "metadata": {},
   "outputs": [],
   "source": [
    "df_train = df_train.drop(['Utilities', 'Street', 'PoolQC',], axis=1)\n",
    "\n",
    "df_train['YrBltAndRemod']=df_train['YearBuilt']+df_train['YearRemodAdd']\n",
    "df_train['TotalSF']=df_train['TotalBsmtSF'] + df_train['1stFlrSF'] + df_train['2ndFlrSF']\n",
    "\n",
    "df_train['Total_sqr_footage'] = (df_train['BsmtFinSF1'] + df_train['BsmtFinSF2'] +\n",
    "                                 df_train['1stFlrSF'] + df_train['2ndFlrSF'])\n",
    "\n",
    "df_train['Total_Bathrooms'] = (df_train['FullBath'] + (0.5 * df_train['HalfBath']) +\n",
    "                               df_train['BsmtFullBath'] + (0.5 * df_train['BsmtHalfBath']))\n",
    "\n",
    "df_train['Total_porch_sf'] = (df_train['OpenPorchSF'] + df_train['3SsnPorch'] +\n",
    "                              df_train['EnclosedPorch'] + df_train['ScreenPorch'] +\n",
    "                              df_train['WoodDeckSF'])\n",
    "df_train['AreaAboveGrade'] = df_train['1stFlrSF'] + df_train['2ndFlrSF']"
   ]
  },
  {
   "cell_type": "code",
   "execution_count": 14,
   "metadata": {},
   "outputs": [],
   "source": [
    "test = test.drop(['Utilities', 'Street', 'PoolQC',], axis=1)\n",
    "\n",
    "test['YrBltAndRemod']=test['YearBuilt']+test['YearRemodAdd']\n",
    "test['TotalSF']=test['TotalBsmtSF'] + test['1stFlrSF'] + test['2ndFlrSF']\n",
    "\n",
    "test['Total_sqr_footage'] = (test['BsmtFinSF1'] + test['BsmtFinSF2'] +\n",
    "                                 test['1stFlrSF'] + test['2ndFlrSF'])\n",
    "\n",
    "test['Total_Bathrooms'] = (test['FullBath'] + (0.5 * test['HalfBath']) +\n",
    "                               test['BsmtFullBath'] + (0.5 * test['BsmtHalfBath']))\n",
    "\n",
    "test['Total_porch_sf'] = (test['OpenPorchSF'] + test['3SsnPorch'] +\n",
    "                              test['EnclosedPorch'] + test['ScreenPorch'] +\n",
    "                              test['WoodDeckSF'])\n",
    "test['AreaAboveGrade'] = test['1stFlrSF'] + test['2ndFlrSF']"
   ]
  },
  {
   "cell_type": "code",
   "execution_count": 15,
   "metadata": {},
   "outputs": [],
   "source": [
    "df_train['MSSubClass'] = df_train['MSSubClass'].apply(str)\n",
    "df_train['YrSold'] = df_train['YrSold'].astype(str)\n",
    "df_train['MoSold'] = df_train['MoSold'].astype(str)\n",
    "\n",
    "test['MSSubClass'] = test['MSSubClass'].apply(str)\n",
    "test['YrSold'] = test['YrSold'].astype(str)\n",
    "test['MoSold'] = test['MoSold'].astype(str)"
   ]
  },
  {
   "cell_type": "code",
   "execution_count": 16,
   "metadata": {},
   "outputs": [
    {
     "data": {
      "text/plain": [
       "Index(['MSSubClass', 'MSZoning', 'LotFrontage', 'LotArea', 'Alley', 'LotShape',\n",
       "       'LandContour', 'LotConfig', 'LandSlope', 'Neighborhood', 'Condition1',\n",
       "       'Condition2', 'BldgType', 'HouseStyle', 'OverallQual', 'OverallCond',\n",
       "       'YearBuilt', 'YearRemodAdd', 'RoofStyle', 'RoofMatl', 'Exterior1st',\n",
       "       'Exterior2nd', 'MasVnrType', 'MasVnrArea', 'ExterQual', 'ExterCond',\n",
       "       'Foundation', 'BsmtQual', 'BsmtCond', 'BsmtExposure', 'BsmtFinType1',\n",
       "       'BsmtFinSF1', 'BsmtFinType2', 'BsmtFinSF2', 'BsmtUnfSF', 'TotalBsmtSF',\n",
       "       'Heating', 'HeatingQC', 'CentralAir', 'Electrical', '1stFlrSF',\n",
       "       '2ndFlrSF', 'LowQualFinSF', 'GrLivArea', 'BsmtFullBath', 'BsmtHalfBath',\n",
       "       'FullBath', 'HalfBath', 'BedroomAbvGr', 'KitchenAbvGr', 'KitchenQual',\n",
       "       'TotRmsAbvGrd', 'Functional', 'Fireplaces', 'FireplaceQu', 'GarageType',\n",
       "       'GarageYrBlt', 'GarageFinish', 'GarageCars', 'GarageArea', 'GarageQual',\n",
       "       'GarageCond', 'PavedDrive', 'WoodDeckSF', 'OpenPorchSF',\n",
       "       'EnclosedPorch', '3SsnPorch', 'ScreenPorch', 'PoolArea', 'Fence',\n",
       "       'MiscFeature', 'MiscVal', 'MoSold', 'YrSold', 'SaleType',\n",
       "       'SaleCondition', 'SalePrice', 'YrBltAndRemod', 'TotalSF',\n",
       "       'Total_sqr_footage', 'Total_Bathrooms', 'Total_porch_sf',\n",
       "       'AreaAboveGrade'],\n",
       "      dtype='object')"
      ]
     },
     "execution_count": 16,
     "metadata": {},
     "output_type": "execute_result"
    }
   ],
   "source": [
    "df_train.columns"
   ]
  },
  {
   "cell_type": "code",
   "execution_count": 17,
   "metadata": {},
   "outputs": [
    {
     "data": {
      "text/plain": [
       "count    1455.000000\n",
       "mean        5.241237\n",
       "std        45.727997\n",
       "min         0.000000\n",
       "25%         0.000000\n",
       "50%         0.000000\n",
       "75%         0.000000\n",
       "max       572.000000\n",
       "Name: LowQualFinSF, dtype: float64"
      ]
     },
     "execution_count": 17,
     "metadata": {},
     "output_type": "execute_result"
    }
   ],
   "source": [
    "df_train['LowQualFinSF'].describe()"
   ]
  },
  {
   "cell_type": "code",
   "execution_count": 18,
   "metadata": {},
   "outputs": [],
   "source": [
    "df_train = df_train.copy()\n",
    "y = df_train.SalePrice  #Create target variable\n",
    "X = df_train.drop(labels=['SalePrice'], axis=1).copy() #Cut SalePrice variable from training set"
   ]
  },
  {
   "cell_type": "code",
   "execution_count": 19,
   "metadata": {},
   "outputs": [],
   "source": [
    "X = nnous_sel(X) #deleting non informative columns from training set"
   ]
  },
  {
   "cell_type": "code",
   "execution_count": 20,
   "metadata": {},
   "outputs": [],
   "source": [
    "#Split  training dataset to train and test set\n",
    "from sklearn.model_selection import train_test_split, StratifiedShuffleSplit\n",
    "#X_train, X_test, y_train, y_test = train_test_split(X, y, test_size=0.13, random_state=42)\n",
    "\n",
    "split = StratifiedShuffleSplit(n_splits=1, test_size=0.1, train_size=0.9, random_state=42)\n",
    "for train_index, test_index in split.split(X, X['Neighborhood']):\n",
    "    str_train = df_train.iloc[train_index]\n",
    "    str_test   = df_train.iloc[test_index]\n",
    "\n",
    "#OverallQual, TotRmsAbvGrd, BedroomAbvGr\n",
    "y_train = str_train['SalePrice']\n",
    "y_test  = str_test['SalePrice']\n",
    "X_train = str_train.drop('SalePrice', axis = 1)\n",
    "X_test = str_test.drop('SalePrice', axis = 1)"
   ]
  },
  {
   "cell_type": "code",
   "execution_count": 21,
   "metadata": {},
   "outputs": [
    {
     "data": {
      "text/plain": [
       "['Electrical']"
      ]
     },
     "execution_count": 21,
     "metadata": {},
     "output_type": "execute_result"
    }
   ],
   "source": [
    "#Dealing with nan - Categorical\n",
    "missing_cat_args = missing_numcat(X_train, categorical=True).index.tolist()\n",
    "missing_cat_args"
   ]
  },
  {
   "cell_type": "code",
   "execution_count": 22,
   "metadata": {},
   "outputs": [
    {
     "data": {
      "text/html": [
       "<div>\n",
       "<style scoped>\n",
       "    .dataframe tbody tr th:only-of-type {\n",
       "        vertical-align: middle;\n",
       "    }\n",
       "\n",
       "    .dataframe tbody tr th {\n",
       "        vertical-align: top;\n",
       "    }\n",
       "\n",
       "    .dataframe thead th {\n",
       "        text-align: right;\n",
       "    }\n",
       "</style>\n",
       "<table border=\"1\" class=\"dataframe\">\n",
       "  <thead>\n",
       "    <tr style=\"text-align: right;\">\n",
       "      <th></th>\n",
       "      <th>values</th>\n",
       "      <th>NaN vals</th>\n",
       "      <th>(%) NaN</th>\n",
       "    </tr>\n",
       "  </thead>\n",
       "  <tbody>\n",
       "    <tr>\n",
       "      <td>LotFrontage</td>\n",
       "      <td>118</td>\n",
       "      <td>28</td>\n",
       "      <td>0.191781</td>\n",
       "    </tr>\n",
       "    <tr>\n",
       "      <td>GarageYrBlt</td>\n",
       "      <td>139</td>\n",
       "      <td>7</td>\n",
       "      <td>0.047945</td>\n",
       "    </tr>\n",
       "  </tbody>\n",
       "</table>\n",
       "</div>"
      ],
      "text/plain": [
       "             values  NaN vals   (%) NaN\n",
       "LotFrontage     118        28  0.191781\n",
       "GarageYrBlt     139         7  0.047945"
      ]
     },
     "execution_count": 22,
     "metadata": {},
     "output_type": "execute_result"
    }
   ],
   "source": [
    "#Dealing with nan - Numerical\n",
    "missing_numcat(X_test, categorical=False)"
   ]
  },
  {
   "cell_type": "code",
   "execution_count": 23,
   "metadata": {},
   "outputs": [],
   "source": [
    "from sklearn.base import TransformerMixin, BaseEstimator\n",
    "\n",
    "class UniversalImputer(BaseEstimator, TransformerMixin):\n",
    "    \n",
    "    def __init__(self):\n",
    "               \"\"\"Impute missing values.\n",
    "\n",
    "        If the Series is of dtype Object, then impute with the most frequent object.\n",
    "        If the Series is not of dtype Object, then impute with the mean.  \n",
    "\n",
    "        \"\"\"\n",
    "        \n",
    "    def fit(self, X, y=None):\n",
    "        \n",
    "        self.fill = pd.Series([X[c].value_counts().index[0] if X[c].dtype == np.dtype('O') else X[c].ffill() for c in X],\n",
    "        index = X.columns)\n",
    "        #if X.dtype == np.dtype('O'):\n",
    "        #    self.fill = X.value_counts().index()[0]\n",
    "        #else:\n",
    "        #    self.fill = X.mean()    \n",
    "    \n",
    "        return self\n",
    "    \n",
    "    def transform(self, X, y=None):\n",
    "        return X.fillna(self.fill)\n",
    "        "
   ]
  },
  {
   "cell_type": "code",
   "execution_count": 24,
   "metadata": {},
   "outputs": [],
   "source": [
    "from sklearn.pipeline import Pipeline\n",
    "from sklearn.preprocessing import StandardScaler, OneHotEncoder, MinMaxScaler, RobustScaler, Normalizer\n",
    "from sklearn.impute import SimpleImputer\n",
    "\n",
    "\n",
    "housing_num = X_train._get_numeric_data()\n",
    "housing_cat = X_train.select_dtypes('object')"
   ]
  },
  {
   "cell_type": "code",
   "execution_count": 25,
   "metadata": {},
   "outputs": [],
   "source": [
    "num_pipeline = Pipeline([\n",
    "    ('imputer', SimpleImputer(strategy='median')),\n",
    "    ('std_scal', RobustScaler()),\n",
    "])"
   ]
  },
  {
   "cell_type": "code",
   "execution_count": 26,
   "metadata": {},
   "outputs": [],
   "source": [
    "cat_pipeline = Pipeline([\n",
    "    ('imput_cat', UniversalImputer()),\n",
    "    ('one_hen', OneHotEncoder(handle_unknown='ignore')),\n",
    "])\n"
   ]
  },
  {
   "cell_type": "code",
   "execution_count": 27,
   "metadata": {},
   "outputs": [],
   "source": [
    "from sklearn.compose import ColumnTransformer\n",
    "from sklearn.impute import SimpleImputer\n",
    "num_attrs = housing_num.columns.tolist()\n",
    "cat_attrs = housing_cat.columns.tolist()\n",
    "full_pipeline = ColumnTransformer([\n",
    "    \n",
    "    ('numerical_pl', num_pipeline, num_attrs),\n",
    "    ('categorical_pl', cat_pipeline, cat_attrs ),\n",
    "])"
   ]
  },
  {
   "cell_type": "code",
   "execution_count": 28,
   "metadata": {},
   "outputs": [],
   "source": [
    "X_train_prepared = full_pipeline.fit_transform(X_train)\n",
    "X_test_prepared = full_pipeline.transform(X_test)\n",
    "test_prepared = full_pipeline.transform(nnous_sel(test))"
   ]
  },
  {
   "cell_type": "code",
   "execution_count": 29,
   "metadata": {},
   "outputs": [],
   "source": [
    "from sklearn.metrics import mean_squared_error, mean_squared_log_error\n",
    "from sklearn.model_selection import cross_val_score\n",
    "#Score Display\n",
    "def display_scores(scores):\n",
    "    \"\"\"This function display scores , mean and standard deviation uses scores as input\"\"\"\n",
    "    print(\"Scores:\", scores)\n",
    "    print(\"Mean:\", scores.mean())\n",
    "    print(\"Standard deviation:\", scores.std())"
   ]
  },
  {
   "cell_type": "code",
   "execution_count": 30,
   "metadata": {},
   "outputs": [],
   "source": [
    "def evaluate(X_train, y_train, X_test,y_test, clf):\n",
    "    clf_predict_train = clf.predict(X_train)\n",
    "    clf_predict_test = clf.predict(X_test)\n",
    "    clfmse_train = mean_squared_error(y_train, clf_predict_train)**0.5\n",
    "    clfmse_test = mean_squared_error(y_test, clf_predict_test)**0.5\n",
    "    clfrmse_train = mean_squared_log_error(y_train, clf_predict_train)**0.5\n",
    "    clfrmse_test = mean_squared_log_error(y_test, clf_predict_test)**0.5\n",
    "    print(\"Evaluate---\",\"***\", \"----\")\n",
    "    print(\"RMSE-train\",clfmse_train)\n",
    "    print(\"RMSE-test\", clfmse_test)\n",
    "    print(\"RMSLE-train\", clfrmse_train)\n",
    "    print(\"RMSLE-test\", clfrmse_test)"
   ]
  },
  {
   "cell_type": "code",
   "execution_count": 31,
   "metadata": {},
   "outputs": [],
   "source": [
    "from sklearn.model_selection import RandomizedSearchCV# Number of trees in random forest\n",
    "n_estimators = [int(x) for x in np.linspace(start = 200, stop = 2000, num = 10)]\n",
    "# Number of features to consider at every split\n",
    "max_features = ['auto', 'sqrt']\n",
    "# Maximum number of levels in tree\n",
    "max_depth = [int(x) for x in np.linspace(10, 110, num = 11)]\n",
    "max_depth.append(None)\n",
    "# Minimum number of samples required to split a node\n",
    "min_samples_split = [2, 5, 10]\n",
    "# Minimum number of samples required at each leaf node\n",
    "min_samples_leaf = [1, 2, 4]\n",
    "# Method of selecting samples for training each tree\n",
    "bootstrap = [True, False]# Create the random grid\n",
    "random_grid = {'n_estimators': n_estimators,\n",
    "               'max_features': max_features,\n",
    "               'max_depth': max_depth,\n",
    "               'min_samples_split': min_samples_split,\n",
    "               'min_samples_leaf': min_samples_leaf,\n",
    "               'bootstrap': bootstrap}"
   ]
  },
  {
   "cell_type": "raw",
   "metadata": {},
   "source": [
    "#Random Forest\n",
    "from sklearn.ensemble import RandomForestRegressor\n",
    "\n",
    "rf_reg = RandomForestRegressor(n_estimators=150,max_depth=20)\n",
    "rf_random = RandomizedSearchCV(estimator = rf_reg, param_distributions = random_grid, n_iter = 100, cv = 3, verbose=2, random_state=42, n_jobs = -1)\n",
    "rf_random.fit(X_train_prepared, y_train)"
   ]
  },
  {
   "cell_type": "code",
   "execution_count": 32,
   "metadata": {},
   "outputs": [],
   "source": [
    "#rf_random.best_params_"
   ]
  },
  {
   "cell_type": "code",
   "execution_count": 33,
   "metadata": {},
   "outputs": [
    {
     "data": {
      "text/plain": [
       "['n_estimators',\n",
       " 'min_samples_split',\n",
       " 'min_samples_leaf',\n",
       " 'max_features',\n",
       " 'max_depth',\n",
       " 'bootstrap']"
      ]
     },
     "execution_count": 33,
     "metadata": {},
     "output_type": "execute_result"
    }
   ],
   "source": [
    "list({'n_estimators': 1400,\n",
    " 'min_samples_split': 2,\n",
    " 'min_samples_leaf': 1,\n",
    " 'max_features': 'auto',\n",
    " 'max_depth': 100,\n",
    " 'bootstrap': True})"
   ]
  },
  {
   "cell_type": "code",
   "execution_count": 34,
   "metadata": {},
   "outputs": [
    {
     "data": {
      "text/plain": [
       "RandomForestRegressor(bootstrap=True, criterion='mse', max_depth=100,\n",
       "                      max_features='auto', max_leaf_nodes=None,\n",
       "                      min_impurity_decrease=0.0, min_impurity_split=None,\n",
       "                      min_samples_leaf=1, min_samples_split=2,\n",
       "                      min_weight_fraction_leaf=0.0, n_estimators=1400,\n",
       "                      n_jobs=None, oob_score=False, random_state=None,\n",
       "                      verbose=0, warm_start=False)"
      ]
     },
     "execution_count": 34,
     "metadata": {},
     "output_type": "execute_result"
    }
   ],
   "source": [
    "from sklearn.ensemble import RandomForestRegressor\n",
    "\n",
    "rf_reg = RandomForestRegressor(n_estimators= 1400,\n",
    " min_samples_split=2,\n",
    " min_samples_leaf= 1,\n",
    " max_features= 'auto',\n",
    " max_depth= 100,\n",
    " bootstrap= True)\n",
    "rf_reg.fit(X_train_prepared, y_train)"
   ]
  },
  {
   "cell_type": "raw",
   "metadata": {},
   "source": []
  },
  {
   "cell_type": "code",
   "execution_count": 35,
   "metadata": {},
   "outputs": [
    {
     "name": "stdout",
     "output_type": "stream",
     "text": [
      "Evaluate--- *** ----\n",
      "RMSE-train 9165.498249807917\n",
      "RMSE-test 20345.95043943756\n",
      "RMSLE-train 0.054590478855733565\n",
      "RMSLE-test 0.10486828993680464\n"
     ]
    }
   ],
   "source": [
    "#Rndom forest\n",
    "evaluate(X_train_prepared, y_train, X_test_prepared, y_test,rf_reg);"
   ]
  },
  {
   "cell_type": "raw",
   "metadata": {},
   "source": [
    "Evaluate--- *** ----\n",
    "RMSE-train 9149.516561631526\n",
    "RMSE-test 20785.307745785427\n",
    "RMSLE-train 0.054451879418014\n",
    "RMSLE-test 0.10596139793304672\n",
    "\n",
    "\n",
    "\n",
    "Evaluate--- *** ----\n",
    "RMSE-train 9709.465076669925\n",
    "RMSE-test 20520.059587128588\n",
    "RMSLE-train 0.05563652894637728\n",
    "RMSLE-test 0.11622696482649997\n"
   ]
  },
  {
   "cell_type": "code",
   "execution_count": 36,
   "metadata": {},
   "outputs": [],
   "source": [
    "id_ = test['Id']\n",
    "df_test = test.drop(['Id'], axis=1)"
   ]
  },
  {
   "cell_type": "code",
   "execution_count": 37,
   "metadata": {},
   "outputs": [],
   "source": [
    "rf_predict = rf_reg.predict(test_prepared)"
   ]
  },
  {
   "cell_type": "code",
   "execution_count": 38,
   "metadata": {},
   "outputs": [
    {
     "data": {
      "text/html": [
       "<div>\n",
       "<style scoped>\n",
       "    .dataframe tbody tr th:only-of-type {\n",
       "        vertical-align: middle;\n",
       "    }\n",
       "\n",
       "    .dataframe tbody tr th {\n",
       "        vertical-align: top;\n",
       "    }\n",
       "\n",
       "    .dataframe thead th {\n",
       "        text-align: right;\n",
       "    }\n",
       "</style>\n",
       "<table border=\"1\" class=\"dataframe\">\n",
       "  <thead>\n",
       "    <tr style=\"text-align: right;\">\n",
       "      <th></th>\n",
       "      <th>Id</th>\n",
       "      <th>SalePrice</th>\n",
       "    </tr>\n",
       "  </thead>\n",
       "  <tbody>\n",
       "    <tr>\n",
       "      <td>0</td>\n",
       "      <td>1461</td>\n",
       "      <td>130036.839286</td>\n",
       "    </tr>\n",
       "    <tr>\n",
       "      <td>1</td>\n",
       "      <td>1462</td>\n",
       "      <td>165024.283571</td>\n",
       "    </tr>\n",
       "    <tr>\n",
       "      <td>2</td>\n",
       "      <td>1463</td>\n",
       "      <td>180521.097143</td>\n",
       "    </tr>\n",
       "    <tr>\n",
       "      <td>3</td>\n",
       "      <td>1464</td>\n",
       "      <td>186214.192143</td>\n",
       "    </tr>\n",
       "    <tr>\n",
       "      <td>4</td>\n",
       "      <td>1465</td>\n",
       "      <td>196810.023571</td>\n",
       "    </tr>\n",
       "    <tr>\n",
       "      <td>...</td>\n",
       "      <td>...</td>\n",
       "      <td>...</td>\n",
       "    </tr>\n",
       "    <tr>\n",
       "      <td>1454</td>\n",
       "      <td>2915</td>\n",
       "      <td>86402.027143</td>\n",
       "    </tr>\n",
       "    <tr>\n",
       "      <td>1455</td>\n",
       "      <td>2916</td>\n",
       "      <td>92355.686429</td>\n",
       "    </tr>\n",
       "    <tr>\n",
       "      <td>1456</td>\n",
       "      <td>2917</td>\n",
       "      <td>162486.857857</td>\n",
       "    </tr>\n",
       "    <tr>\n",
       "      <td>1457</td>\n",
       "      <td>2918</td>\n",
       "      <td>115319.778571</td>\n",
       "    </tr>\n",
       "    <tr>\n",
       "      <td>1458</td>\n",
       "      <td>2919</td>\n",
       "      <td>225095.077857</td>\n",
       "    </tr>\n",
       "  </tbody>\n",
       "</table>\n",
       "<p>1459 rows × 2 columns</p>\n",
       "</div>"
      ],
      "text/plain": [
       "        Id      SalePrice\n",
       "0     1461  130036.839286\n",
       "1     1462  165024.283571\n",
       "2     1463  180521.097143\n",
       "3     1464  186214.192143\n",
       "4     1465  196810.023571\n",
       "...    ...            ...\n",
       "1454  2915   86402.027143\n",
       "1455  2916   92355.686429\n",
       "1456  2917  162486.857857\n",
       "1457  2918  115319.778571\n",
       "1458  2919  225095.077857\n",
       "\n",
       "[1459 rows x 2 columns]"
      ]
     },
     "execution_count": 38,
     "metadata": {},
     "output_type": "execute_result"
    }
   ],
   "source": [
    "final_df= pd.DataFrame(data=zip(id_,rf_predict), columns=['Id', 'SalePrice'])\n",
    "final_df.to_csv('zillow/sample_submission.csv', index=False, columns=['Id', 'SalePrice'])\n",
    "pd.read_csv('zillow/sample_submission.csv')\n",
    "final_df"
   ]
  },
  {
   "cell_type": "code",
   "execution_count": 39,
   "metadata": {},
   "outputs": [
    {
     "data": {
      "text/plain": [
       "count      1459.000000\n",
       "mean     179821.277498\n",
       "std       76989.977357\n",
       "min       61253.430714\n",
       "25%      130322.167500\n",
       "50%      158661.420714\n",
       "75%      210397.715714\n",
       "max      645515.270000\n",
       "Name: SalePrice, dtype: float64"
      ]
     },
     "execution_count": 39,
     "metadata": {},
     "output_type": "execute_result"
    }
   ],
   "source": [
    "final_df['SalePrice'].describe()"
   ]
  },
  {
   "cell_type": "code",
   "execution_count": null,
   "metadata": {},
   "outputs": [],
   "source": []
  },
  {
   "cell_type": "code",
   "execution_count": null,
   "metadata": {},
   "outputs": [],
   "source": []
  }
 ],
 "metadata": {
  "kernelspec": {
   "display_name": "Python 3",
   "language": "python",
   "name": "python3"
  },
  "language_info": {
   "codemirror_mode": {
    "name": "ipython",
    "version": 3
   },
   "file_extension": ".py",
   "mimetype": "text/x-python",
   "name": "python",
   "nbconvert_exporter": "python",
   "pygments_lexer": "ipython3",
   "version": "3.7.3"
  }
 },
 "nbformat": 4,
 "nbformat_minor": 2
}
