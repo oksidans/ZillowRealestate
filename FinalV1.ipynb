{
 "cells": [
  {
   "cell_type": "code",
   "execution_count": 1,
   "metadata": {},
   "outputs": [],
   "source": [
    "import numpy as np\n",
    "import pandas as pd\n",
    "import matplotlib.pyplot as plt\n",
    "%matplotlib inline\n",
    "import seaborn as sns\n",
    "from scipy import stats\n",
    "\n",
    "\n",
    "import warnings\n",
    "warnings.filterwarnings('ignore')"
   ]
  },
  {
   "cell_type": "code",
   "execution_count": 2,
   "metadata": {},
   "outputs": [
    {
     "name": "stdout",
     "output_type": "stream",
     "text": [
      "(1460, 80)\n",
      "(1459, 79)\n",
      "1459\n"
     ]
    },
    {
     "data": {
      "text/plain": [
       "2919"
      ]
     },
     "execution_count": 2,
     "metadata": {},
     "output_type": "execute_result"
    }
   ],
   "source": [
    "#Importing dataset\n",
    "\n",
    "train = pd.read_csv('zillow/train.csv')\n",
    "Id = train['Id']\n",
    "train = train.drop('Id', axis=1)\n",
    "#Test for evaluation\n",
    "test = pd.read_csv('zillow/test.csv')\n",
    "test_id = test['Id']\n",
    "test = test.drop('Id', axis=1)\n",
    "\n",
    "train_len= len(train)\n",
    "test_len = len(test)\n",
    "print(train.shape)\n",
    "print(test.shape)\n",
    "print(test_len)\n",
    "1460+1459"
   ]
  },
  {
   "cell_type": "markdown",
   "metadata": {},
   "source": [
    "# Data Cleaning"
   ]
  },
  {
   "cell_type": "code",
   "execution_count": null,
   "metadata": {},
   "outputs": [],
   "source": []
  },
  {
   "cell_type": "code",
   "execution_count": 3,
   "metadata": {},
   "outputs": [],
   "source": [
    "def nnous_sel(df):\n",
    "    \"\"\"This function dedect non informative features with more than 90 % zeros\"\"\"\n",
    "    nn_cols = df.loc[:, (df.isin([' ','NULL',0]) | df.isnull()).mean() <= 0.9].columns.tolist()\n",
    "    col_tdrop = set(df.columns.tolist()) - set(nn_cols)\n",
    "    return list(col_tdrop)"
   ]
  },
  {
   "cell_type": "code",
   "execution_count": 4,
   "metadata": {},
   "outputs": [
    {
     "name": "stdout",
     "output_type": "stream",
     "text": [
      "(2919, 80)\n"
     ]
    }
   ],
   "source": [
    "#Combined train /test\n",
    "df = pd.concat((train, test), axis=0, ignore_index=True).reset_index(drop=True)\n",
    "print(df.shape)"
   ]
  },
  {
   "cell_type": "code",
   "execution_count": 5,
   "metadata": {},
   "outputs": [
    {
     "name": "stdout",
     "output_type": "stream",
     "text": [
      "(2919, 71)\n"
     ]
    }
   ],
   "source": [
    "#Fixing typo\n",
    "df = df.replace({\"Exterior2nd\":{\"CmentBd\":\"CemntBd\"}})\n",
    "\n",
    "\n",
    "##Dropping Id from dataset\n",
    "df.drop(nnous_sel(df), axis=1, inplace=True)  #For removed non informative columns in combined dataset\n",
    "print(df.shape)"
   ]
  },
  {
   "cell_type": "code",
   "execution_count": 6,
   "metadata": {},
   "outputs": [],
   "source": [
    "#Function that split dataset to numerical and textual and check for missing values\n",
    "\n",
    "def missing_numcat(data, categorical=True):\n",
    "    \"\"\"This function splits dataset into numerical and textual portion of the data and make dataframe with missing values\"\"\"\n",
    "    if categorical:\n",
    "        categorical_text = data.select_dtypes(include='object')\n",
    "        categorical_cnt = categorical_text.count()\n",
    "        cat_with_missing = categorical_cnt[categorical_cnt.values < len(data)]\n",
    "        cat_percent =  (len(data) - cat_with_missing.values) / len(data)\n",
    "        missing_categorical =pd.DataFrame({'values': cat_with_missing,\n",
    "                                  'NaN vals':(len(data) - cat_with_missing.values), '(%) NaN':cat_percent})\n",
    "        return missing_categorical\n",
    "    else:\n",
    "        numerical_data = data._get_numeric_data()\n",
    "        numerical_cnt = numerical_data.count()\n",
    "        num_with_missing = numerical_cnt[numerical_cnt.values < len(data)]\n",
    "        num_percent =  (len(data) - num_with_missing.values) / len(data)\n",
    "        missing_numerical =pd.DataFrame({'values': num_with_missing,\n",
    "                                          'NaN vals':(len(data) - num_with_missing.values), '(%) NaN':num_percent}) \n",
    "        return missing_numerical"
   ]
  },
  {
   "cell_type": "code",
   "execution_count": 7,
   "metadata": {},
   "outputs": [],
   "source": [
    "#According to the documentation these cathegorical features should have No feature as string instead nan values\n",
    "df['BsmtQual'] = df['BsmtQual'].fillna('No Basement')\n",
    "df['BsmtCond'] = df['BsmtCond'].fillna('No Basement')\n",
    "df['BsmtExposure'] = df['BsmtExposure'].fillna('No Basement')\n",
    "df['BsmtFinType1'] = df['BsmtFinType1'].fillna('No Basement')\n",
    "df['BsmtFinType2'] = df['BsmtFinType2'].fillna('No Basement')\n",
    "df['FireplaceQu'] = df['FireplaceQu'].fillna('No Fireplace')\n",
    "df['GarageType']  = df['GarageType'].fillna('No Garage')\n",
    "df['GarageFinish'] = df['GarageFinish'].fillna('No Garage')\n",
    "df['GarageQual'] = df['GarageQual'].fillna('No Garage')\n",
    "df['GarageCond'] = df['GarageCond'].fillna('No Garage')\n",
    "df['Fence'] = df['Fence'].fillna('NoFence')\n",
    "df['MasVnrType'] = df['MasVnrType'].fillna('No Veneer')"
   ]
  },
  {
   "cell_type": "code",
   "execution_count": 8,
   "metadata": {},
   "outputs": [
    {
     "data": {
      "text/html": [
       "<div>\n",
       "<style scoped>\n",
       "    .dataframe tbody tr th:only-of-type {\n",
       "        vertical-align: middle;\n",
       "    }\n",
       "\n",
       "    .dataframe tbody tr th {\n",
       "        vertical-align: top;\n",
       "    }\n",
       "\n",
       "    .dataframe thead th {\n",
       "        text-align: right;\n",
       "    }\n",
       "</style>\n",
       "<table border=\"1\" class=\"dataframe\">\n",
       "  <thead>\n",
       "    <tr style=\"text-align: right;\">\n",
       "      <th></th>\n",
       "      <th>values</th>\n",
       "      <th>NaN vals</th>\n",
       "      <th>(%) NaN</th>\n",
       "    </tr>\n",
       "  </thead>\n",
       "  <tbody>\n",
       "    <tr>\n",
       "      <td>Electrical</td>\n",
       "      <td>2918</td>\n",
       "      <td>1</td>\n",
       "      <td>0.000343</td>\n",
       "    </tr>\n",
       "    <tr>\n",
       "      <td>Exterior1st</td>\n",
       "      <td>2918</td>\n",
       "      <td>1</td>\n",
       "      <td>0.000343</td>\n",
       "    </tr>\n",
       "    <tr>\n",
       "      <td>Exterior2nd</td>\n",
       "      <td>2918</td>\n",
       "      <td>1</td>\n",
       "      <td>0.000343</td>\n",
       "    </tr>\n",
       "    <tr>\n",
       "      <td>Functional</td>\n",
       "      <td>2917</td>\n",
       "      <td>2</td>\n",
       "      <td>0.000685</td>\n",
       "    </tr>\n",
       "    <tr>\n",
       "      <td>KitchenQual</td>\n",
       "      <td>2918</td>\n",
       "      <td>1</td>\n",
       "      <td>0.000343</td>\n",
       "    </tr>\n",
       "    <tr>\n",
       "      <td>MSZoning</td>\n",
       "      <td>2915</td>\n",
       "      <td>4</td>\n",
       "      <td>0.001370</td>\n",
       "    </tr>\n",
       "    <tr>\n",
       "      <td>SaleType</td>\n",
       "      <td>2918</td>\n",
       "      <td>1</td>\n",
       "      <td>0.000343</td>\n",
       "    </tr>\n",
       "    <tr>\n",
       "      <td>Utilities</td>\n",
       "      <td>2917</td>\n",
       "      <td>2</td>\n",
       "      <td>0.000685</td>\n",
       "    </tr>\n",
       "  </tbody>\n",
       "</table>\n",
       "</div>"
      ],
      "text/plain": [
       "             values  NaN vals   (%) NaN\n",
       "Electrical     2918         1  0.000343\n",
       "Exterior1st    2918         1  0.000343\n",
       "Exterior2nd    2918         1  0.000343\n",
       "Functional     2917         2  0.000685\n",
       "KitchenQual    2918         1  0.000343\n",
       "MSZoning       2915         4  0.001370\n",
       "SaleType       2918         1  0.000343\n",
       "Utilities      2917         2  0.000685"
      ]
     },
     "execution_count": 8,
     "metadata": {},
     "output_type": "execute_result"
    }
   ],
   "source": [
    "#Dealing with categorical missing data\n",
    "missing_numcat(df, categorical=True)"
   ]
  },
  {
   "cell_type": "code",
   "execution_count": 9,
   "metadata": {},
   "outputs": [],
   "source": [
    "def ffier(df, cols, method = None):\n",
    "    if method == 'ffill':\n",
    "        for col in cols:\n",
    "            df[col] = df[col].fillna(method = method)\n",
    "    return df[col]"
   ]
  },
  {
   "cell_type": "code",
   "execution_count": 10,
   "metadata": {},
   "outputs": [],
   "source": [
    "cls = missing_numcat(df, categorical=True).index.tolist()\n",
    "ffier(df, cls, method = 'ffill');"
   ]
  },
  {
   "cell_type": "code",
   "execution_count": 11,
   "metadata": {},
   "outputs": [
    {
     "data": {
      "text/html": [
       "<div>\n",
       "<style scoped>\n",
       "    .dataframe tbody tr th:only-of-type {\n",
       "        vertical-align: middle;\n",
       "    }\n",
       "\n",
       "    .dataframe tbody tr th {\n",
       "        vertical-align: top;\n",
       "    }\n",
       "\n",
       "    .dataframe thead th {\n",
       "        text-align: right;\n",
       "    }\n",
       "</style>\n",
       "<table border=\"1\" class=\"dataframe\">\n",
       "  <thead>\n",
       "    <tr style=\"text-align: right;\">\n",
       "      <th></th>\n",
       "      <th>values</th>\n",
       "      <th>NaN vals</th>\n",
       "      <th>(%) NaN</th>\n",
       "    </tr>\n",
       "  </thead>\n",
       "  <tbody>\n",
       "  </tbody>\n",
       "</table>\n",
       "</div>"
      ],
      "text/plain": [
       "Empty DataFrame\n",
       "Columns: [values, NaN vals, (%) NaN]\n",
       "Index: []"
      ]
     },
     "execution_count": 11,
     "metadata": {},
     "output_type": "execute_result"
    }
   ],
   "source": [
    "missing_numcat(df, categorical=True)  #check for missing in numerical"
   ]
  },
  {
   "cell_type": "code",
   "execution_count": 12,
   "metadata": {},
   "outputs": [],
   "source": [
    "cls_num = missing_numcat(df, categorical=False).index.tolist()\n",
    "for column in cls_num:\n",
    "    df[column] = df[column].fillna(df[column].mean())"
   ]
  },
  {
   "cell_type": "code",
   "execution_count": 13,
   "metadata": {},
   "outputs": [
    {
     "data": {
      "text/html": [
       "<div>\n",
       "<style scoped>\n",
       "    .dataframe tbody tr th:only-of-type {\n",
       "        vertical-align: middle;\n",
       "    }\n",
       "\n",
       "    .dataframe tbody tr th {\n",
       "        vertical-align: top;\n",
       "    }\n",
       "\n",
       "    .dataframe thead th {\n",
       "        text-align: right;\n",
       "    }\n",
       "</style>\n",
       "<table border=\"1\" class=\"dataframe\">\n",
       "  <thead>\n",
       "    <tr style=\"text-align: right;\">\n",
       "      <th></th>\n",
       "      <th>values</th>\n",
       "      <th>NaN vals</th>\n",
       "      <th>(%) NaN</th>\n",
       "    </tr>\n",
       "  </thead>\n",
       "  <tbody>\n",
       "  </tbody>\n",
       "</table>\n",
       "</div>"
      ],
      "text/plain": [
       "Empty DataFrame\n",
       "Columns: [values, NaN vals, (%) NaN]\n",
       "Index: []"
      ]
     },
     "execution_count": 13,
     "metadata": {},
     "output_type": "execute_result"
    }
   ],
   "source": [
    "missing_numcat(df, categorical=False)  #check for missing in categorical"
   ]
  },
  {
   "cell_type": "code",
   "execution_count": 14,
   "metadata": {},
   "outputs": [],
   "source": [
    "from scipy.stats import skew\n",
    "def fix_skew(c):\n",
    "    numeric_feats = c.dtypes[c.dtypes != \"object\"].index\n",
    "\n",
    "    skewed_feats = c[numeric_feats].apply(lambda x: skew(x.dropna())) #compute skewness\n",
    "    skewed_feats = skewed_feats[skewed_feats > 0.75]\n",
    "    skewed_feats = skewed_feats.index\n",
    "\n",
    "    c[skewed_feats] = np.log1p(c[skewed_feats])\n",
    "    return c\n",
    "\n",
    "df = fix_skew(df)"
   ]
  },
  {
   "cell_type": "code",
   "execution_count": 15,
   "metadata": {},
   "outputs": [],
   "source": [
    "#Splitting the data to origina state\n",
    "train = df[0:train_len]\n",
    "test  = df[test_len:]"
   ]
  },
  {
   "cell_type": "code",
   "execution_count": 16,
   "metadata": {},
   "outputs": [
    {
     "name": "stdout",
     "output_type": "stream",
     "text": [
      "(1460, 71)\n",
      "(1460, 71)\n"
     ]
    }
   ],
   "source": [
    "print(train.shape)\n",
    "print(test.shape)"
   ]
  },
  {
   "cell_type": "code",
   "execution_count": 17,
   "metadata": {},
   "outputs": [
    {
     "name": "stdout",
     "output_type": "stream",
     "text": [
      "Shape before removal  (1460, 71)\n",
      "Shape after removal  (1460, 71)\n",
      "(1460, 71)\n"
     ]
    }
   ],
   "source": [
    "#Outlier removal\n",
    "print(\"Shape before removal \", train.shape)\n",
    "#train.drop(train[(train['OverallQual']<5) & (train['SalePrice']>200000)].index, inplace=True)\n",
    "train.drop(train[(train['GrLivArea']>3100) & (train['SalePrice']<300000)].index, inplace=True)\n",
    "print(\"Shape after removal \", train.shape)\n",
    "print(test.shape)"
   ]
  },
  {
   "cell_type": "code",
   "execution_count": 18,
   "metadata": {},
   "outputs": [],
   "source": [
    "train = train.copy()\n",
    "y = train.SalePrice  #Create target variable\n",
    "X = train.drop(labels=['SalePrice'], axis=1).copy() #Cut SalePrice variable from training set"
   ]
  },
  {
   "cell_type": "code",
   "execution_count": 19,
   "metadata": {},
   "outputs": [],
   "source": [
    "#Split  training dataset to train and test set\n",
    "from sklearn.model_selection import train_test_split, StratifiedShuffleSplit\n",
    "#X_train, X_test, y_train, y_test = train_test_split(X, y, test_size=0.13, random_state=42)\n",
    "\n",
    "split = StratifiedShuffleSplit(n_splits=1, test_size=0.2, train_size=0.8, random_state=42)\n",
    "for train_index, test_index in split.split(X, X['Neighborhood']):\n",
    "    str_train = train.iloc[train_index]\n",
    "    str_test   = train.iloc[test_index]\n",
    "\n",
    "#OverallQual, TotRmsAbvGrd, BedroomAbvGr\n",
    "y_train = str_train['SalePrice']\n",
    "y_test  = str_test['SalePrice']\n",
    "X_train = str_train.drop('SalePrice', axis = 1)\n",
    "X_test = str_test.drop('SalePrice', axis = 1)"
   ]
  },
  {
   "cell_type": "code",
   "execution_count": 20,
   "metadata": {},
   "outputs": [],
   "source": [
    "from sklearn.pipeline import Pipeline\n",
    "from sklearn.preprocessing import StandardScaler, OneHotEncoder, MinMaxScaler, RobustScaler, Normalizer, scale\n",
    "from sklearn.impute import SimpleImputer\n",
    "\n",
    "\n",
    "housing_num = X_train._get_numeric_data()\n",
    "housing_cat = X_train.select_dtypes('object')"
   ]
  },
  {
   "cell_type": "code",
   "execution_count": 21,
   "metadata": {},
   "outputs": [],
   "source": [
    "num_pipeline = Pipeline([\n",
    "    ('std_scal', RobustScaler()),\n",
    "])\n",
    "\n",
    "cat_pipeline = Pipeline([\n",
    "    ('one_hen', OneHotEncoder(handle_unknown='ignore')),\n",
    "])"
   ]
  },
  {
   "cell_type": "code",
   "execution_count": 22,
   "metadata": {},
   "outputs": [],
   "source": [
    "from sklearn.compose import ColumnTransformer\n",
    "from sklearn.impute import SimpleImputer\n",
    "num_attrs = housing_num.columns.tolist()\n",
    "cat_attrs = housing_cat.columns.tolist()\n",
    "full_pipeline = ColumnTransformer([\n",
    "    ('numerical_pl', num_pipeline, num_attrs),\n",
    "    ('categorical_pl', cat_pipeline, cat_attrs ),\n",
    "])\n",
    "X_train_prepared = full_pipeline.fit_transform(X_train)\n",
    "X_test_prepared = full_pipeline.transform(X_test)\n",
    "test_prepared = full_pipeline.transform(test)"
   ]
  },
  {
   "cell_type": "code",
   "execution_count": 23,
   "metadata": {},
   "outputs": [
    {
     "data": {
      "text/plain": [
       "(1460, 280)"
      ]
     },
     "execution_count": 23,
     "metadata": {},
     "output_type": "execute_result"
    }
   ],
   "source": [
    "test_prepared.shape"
   ]
  },
  {
   "cell_type": "code",
   "execution_count": 24,
   "metadata": {},
   "outputs": [],
   "source": [
    "from sklearn.metrics import mean_squared_error, mean_squared_log_error\n",
    "from sklearn.model_selection import cross_val_score\n",
    "#Score Display\n",
    "def display_scores(scores):\n",
    "    \"\"\"This function display scores , mean and standard deviation uses scores as input\"\"\"\n",
    "    print(\"Scores:\", scores)\n",
    "    print(\"Mean:\", scores.mean())\n",
    "    print(\"Standard deviation:\", scores.std())\n",
    "    \n",
    "def evaluate(X_train, y_train, X_test, y_test, clf):\n",
    "    clf_predict_train = clf.predict(X_train)\n",
    "    clf_predict_test = clf.predict(X_test)\n",
    "    clfmse_train = (mean_squared_error(y_train, clf_predict_train)**0.5)\n",
    "    clfmse_test = (mean_squared_error(y_test, clf_predict_test)**0.5)\n",
    "    clfrmse_train = (mean_squared_log_error(y_train, clf_predict_train)**0.5)*10\n",
    "    clfrmse_test = (mean_squared_log_error(y_test, clf_predict_test)**0.5)*10\n",
    "    print(\"Evaluate---\",\"***\", \"----\")\n",
    "    print(\"RMSE-train\",clfmse_train )\n",
    "    print(\"RMSE-test\", clfmse_test)\n",
    "    print(\"RMSLE-train\", clfrmse_train)\n",
    "    print(\"RMSLE-test\", clfrmse_test)    "
   ]
  },
  {
   "cell_type": "code",
   "execution_count": 25,
   "metadata": {},
   "outputs": [
    {
     "data": {
      "text/plain": [
       "RandomForestRegressor(bootstrap=True, criterion='mse', max_depth=20,\n",
       "                      max_features='auto', max_leaf_nodes=None,\n",
       "                      min_impurity_decrease=0.0, min_impurity_split=None,\n",
       "                      min_samples_leaf=1, min_samples_split=2,\n",
       "                      min_weight_fraction_leaf=0.0, n_estimators=20,\n",
       "                      n_jobs=None, oob_score=False, random_state=None,\n",
       "                      verbose=0, warm_start=False)"
      ]
     },
     "execution_count": 25,
     "metadata": {},
     "output_type": "execute_result"
    }
   ],
   "source": [
    "#Random Forest\n",
    "from sklearn.ensemble import RandomForestRegressor\n",
    "\n",
    "rf_reg = RandomForestRegressor(n_estimators=20,max_depth=20)\n",
    "rf_reg.fit(X_train_prepared, y_train)"
   ]
  },
  {
   "cell_type": "code",
   "execution_count": 26,
   "metadata": {},
   "outputs": [
    {
     "name": "stdout",
     "output_type": "stream",
     "text": [
      "Evaluate--- *** ----\n",
      "RMSE-train 0.060256542254404966\n",
      "RMSE-test 0.14694563844690922\n",
      "RMSLE-train 0.04721350759671555\n",
      "RMSLE-test 0.11247555868519894\n"
     ]
    }
   ],
   "source": [
    "evaluate(X_train_prepared, y_train, X_test_prepared, y_test,rf_reg)"
   ]
  },
  {
   "cell_type": "code",
   "execution_count": 27,
   "metadata": {},
   "outputs": [],
   "source": [
    "rf_predict = rf_reg.predict(test_prepared)"
   ]
  },
  {
   "cell_type": "code",
   "execution_count": 28,
   "metadata": {},
   "outputs": [
    {
     "data": {
      "text/html": [
       "<div>\n",
       "<style scoped>\n",
       "    .dataframe tbody tr th:only-of-type {\n",
       "        vertical-align: middle;\n",
       "    }\n",
       "\n",
       "    .dataframe tbody tr th {\n",
       "        vertical-align: top;\n",
       "    }\n",
       "\n",
       "    .dataframe thead th {\n",
       "        text-align: right;\n",
       "    }\n",
       "</style>\n",
       "<table border=\"1\" class=\"dataframe\">\n",
       "  <thead>\n",
       "    <tr style=\"text-align: right;\">\n",
       "      <th></th>\n",
       "      <th>Id</th>\n",
       "      <th>SalePrice</th>\n",
       "    </tr>\n",
       "  </thead>\n",
       "  <tbody>\n",
       "    <tr>\n",
       "      <td>0</td>\n",
       "      <td>1461</td>\n",
       "      <td>118993.540141</td>\n",
       "    </tr>\n",
       "    <tr>\n",
       "      <td>1</td>\n",
       "      <td>1462</td>\n",
       "      <td>116853.174272</td>\n",
       "    </tr>\n",
       "    <tr>\n",
       "      <td>2</td>\n",
       "      <td>1463</td>\n",
       "      <td>119629.417884</td>\n",
       "    </tr>\n",
       "    <tr>\n",
       "      <td>3</td>\n",
       "      <td>1464</td>\n",
       "      <td>120766.632963</td>\n",
       "    </tr>\n",
       "    <tr>\n",
       "      <td>4</td>\n",
       "      <td>1465</td>\n",
       "      <td>121250.984986</td>\n",
       "    </tr>\n",
       "    <tr>\n",
       "      <td>...</td>\n",
       "      <td>...</td>\n",
       "      <td>...</td>\n",
       "    </tr>\n",
       "    <tr>\n",
       "      <td>1454</td>\n",
       "      <td>2915</td>\n",
       "      <td>113280.891414</td>\n",
       "    </tr>\n",
       "    <tr>\n",
       "      <td>1455</td>\n",
       "      <td>2916</td>\n",
       "      <td>113251.218588</td>\n",
       "    </tr>\n",
       "    <tr>\n",
       "      <td>1456</td>\n",
       "      <td>2917</td>\n",
       "      <td>113509.061175</td>\n",
       "    </tr>\n",
       "    <tr>\n",
       "      <td>1457</td>\n",
       "      <td>2918</td>\n",
       "      <td>119126.914613</td>\n",
       "    </tr>\n",
       "    <tr>\n",
       "      <td>1458</td>\n",
       "      <td>2919</td>\n",
       "      <td>116622.859413</td>\n",
       "    </tr>\n",
       "  </tbody>\n",
       "</table>\n",
       "<p>1459 rows × 2 columns</p>\n",
       "</div>"
      ],
      "text/plain": [
       "        Id      SalePrice\n",
       "0     1461  118993.540141\n",
       "1     1462  116853.174272\n",
       "2     1463  119629.417884\n",
       "3     1464  120766.632963\n",
       "4     1465  121250.984986\n",
       "...    ...            ...\n",
       "1454  2915  113280.891414\n",
       "1455  2916  113251.218588\n",
       "1456  2917  113509.061175\n",
       "1457  2918  119126.914613\n",
       "1458  2919  116622.859413\n",
       "\n",
       "[1459 rows x 2 columns]"
      ]
     },
     "execution_count": 28,
     "metadata": {},
     "output_type": "execute_result"
    }
   ],
   "source": [
    "final_df= pd.DataFrame(data=zip(test_id,rf_predict*10000), columns=['Id', 'SalePrice'])\n",
    "final_df.to_csv('zillow/sample_submission.csv', index=False, columns=['Id', 'SalePrice'])\n",
    "pd.read_csv('zillow/sample_submission.csv')"
   ]
  },
  {
   "cell_type": "code",
   "execution_count": 29,
   "metadata": {},
   "outputs": [
    {
     "data": {
      "text/plain": [
       "(1459, 2)"
      ]
     },
     "execution_count": 29,
     "metadata": {},
     "output_type": "execute_result"
    }
   ],
   "source": [
    "final_df.shape"
   ]
  },
  {
   "cell_type": "code",
   "execution_count": null,
   "metadata": {},
   "outputs": [],
   "source": []
  },
  {
   "cell_type": "code",
   "execution_count": null,
   "metadata": {},
   "outputs": [],
   "source": []
  }
 ],
 "metadata": {
  "kernelspec": {
   "display_name": "Python 3",
   "language": "python",
   "name": "python3"
  },
  "language_info": {
   "codemirror_mode": {
    "name": "ipython",
    "version": 3
   },
   "file_extension": ".py",
   "mimetype": "text/x-python",
   "name": "python",
   "nbconvert_exporter": "python",
   "pygments_lexer": "ipython3",
   "version": "3.7.4"
  }
 },
 "nbformat": 4,
 "nbformat_minor": 2
}
