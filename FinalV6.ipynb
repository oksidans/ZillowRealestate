{
 "cells": [
  {
   "cell_type": "code",
   "execution_count": 1,
   "metadata": {},
   "outputs": [],
   "source": [
    "import numpy as np\n",
    "import pandas as pd\n",
    "import matplotlib.pyplot as plt\n",
    "%matplotlib inline\n",
    "import seaborn as sns\n",
    "from scipy import stats\n",
    "\n",
    "\n",
    "import warnings\n",
    "warnings.filterwarnings('ignore')\n",
    "\n",
    "from sklearn.linear_model import ElasticNetCV, LassoCV, RidgeCV\n",
    "from sklearn.ensemble import GradientBoostingRegressor\n",
    "from sklearn.svm import SVR\n",
    "from sklearn.pipeline import make_pipeline\n",
    "from sklearn.preprocessing import RobustScaler\n",
    "from sklearn.model_selection import KFold, cross_val_score\n",
    "from sklearn.metrics import mean_squared_error\n"
   ]
  },
  {
   "cell_type": "code",
   "execution_count": 2,
   "metadata": {},
   "outputs": [],
   "source": [
    "#Importing dataset\n",
    "\n",
    "train = pd.read_csv('zillow/train.csv')\n",
    "\n",
    "#Test for evaluation\n",
    "test = pd.read_csv('zillow/test.csv')"
   ]
  },
  {
   "cell_type": "code",
   "execution_count": 3,
   "metadata": {},
   "outputs": [],
   "source": [
    "#Fixing typo\n",
    "\n",
    "train = train.replace({\"Exterior2nd\":{\"CmentBd\":\"CemntBd\"}})"
   ]
  },
  {
   "cell_type": "code",
   "execution_count": 4,
   "metadata": {},
   "outputs": [],
   "source": [
    "#Saving Id for further refference\n",
    "Id_train =train['Id']\n",
    "Id_test = test['Id']\n",
    "#Dropping Id from dataset\n",
    "train.drop('Id', axis=1, inplace=True)  #For feature engeneering\n",
    "test.drop('Id', axis=1, inplace = True)"
   ]
  },
  {
   "cell_type": "code",
   "execution_count": 5,
   "metadata": {},
   "outputs": [
    {
     "name": "stdout",
     "output_type": "stream",
     "text": [
      "Shape before removal  (1460, 80)\n",
      "Shape after removal  (1427, 80)\n"
     ]
    }
   ],
   "source": [
    "#Outlier removal\n",
    "\n",
    "print(\"Shape before removal \", train.shape)\n",
    "#train.drop(train[(train['OverallQual']<5) & (train['SalePrice']>200000)].index, inplace=True)\n",
    "train.drop(train[(train['GrLivArea']>2500) & (train['SalePrice']<300000)].index, inplace=True)\n",
    "print(\"Shape after removal \", train.shape)"
   ]
  },
  {
   "cell_type": "code",
   "execution_count": 6,
   "metadata": {},
   "outputs": [],
   "source": [
    "#Saving SalePrice\n",
    "train['SalePrice'] = np.log1p(train['SalePrice'])\n",
    "y = train['SalePrice'].reset_index(drop=True)"
   ]
  },
  {
   "cell_type": "code",
   "execution_count": 7,
   "metadata": {},
   "outputs": [],
   "source": [
    "#Concatenate train and test \n",
    "df = pd.concat([train, test]).reset_index(drop=True)"
   ]
  },
  {
   "cell_type": "code",
   "execution_count": 8,
   "metadata": {},
   "outputs": [],
   "source": [
    "#Remove SalePrice from df\n",
    "df = df.drop(['SalePrice'], axis=1)"
   ]
  },
  {
   "cell_type": "code",
   "execution_count": 9,
   "metadata": {},
   "outputs": [
    {
     "data": {
      "text/plain": [
       "(2886, 79)"
      ]
     },
     "execution_count": 9,
     "metadata": {},
     "output_type": "execute_result"
    }
   ],
   "source": [
    "#Check shape\n",
    "df.shape"
   ]
  },
  {
   "cell_type": "code",
   "execution_count": null,
   "metadata": {},
   "outputs": [],
   "source": []
  },
  {
   "cell_type": "code",
   "execution_count": 10,
   "metadata": {},
   "outputs": [],
   "source": [
    "#Function that split dataset to numerical and textual and check for missing values\n",
    "\n",
    "def missing_numcat(data, categorical=True):\n",
    "    \"\"\"This function splits dataset into numerical and textual portion of the data and make dataframe with missing values\"\"\"\n",
    "    if categorical:\n",
    "        categorical_text = data.select_dtypes(include='object')\n",
    "        categorical_cnt = categorical_text.count()\n",
    "        cat_with_missing = categorical_cnt[categorical_cnt.values < len(data)]\n",
    "        cat_percent =  (len(data) - cat_with_missing.values) / len(data)\n",
    "        missing_categorical =pd.DataFrame({'values': cat_with_missing,\n",
    "                                  'NaN vals':(len(data) - cat_with_missing.values), '(%) NaN':cat_percent})\n",
    "        return missing_categorical\n",
    "    else:\n",
    "        numerical_data = data._get_numeric_data()\n",
    "        numerical_cnt = numerical_data.count()\n",
    "        num_with_missing = numerical_cnt[numerical_cnt.values < len(data)]\n",
    "        num_percent =  (len(data) - num_with_missing.values) / len(data)\n",
    "        missing_numerical =pd.DataFrame({'values': num_with_missing,\n",
    "                                          'NaN vals':(len(data) - num_with_missing.values), '(%) NaN':num_percent}) \n",
    "        return missing_numerical\n",
    "    \n",
    "    \n",
    "    \n",
    "#Function that fixes skewnes\n",
    "from scipy.stats import skew\n",
    "def fix_skew(c):\n",
    "    \"\"\"This function takes only numeric portion of the dataset and fix skewnes\"\"\"\n",
    "    numeric_feats = c.dtypes[c.dtypes != \"object\"].index\n",
    "\n",
    "    skewed_feats = c[numeric_feats].apply(lambda x: skew(x.dropna())) #compute skewness\n",
    "    skewed_feats = skewed_feats[skewed_feats > 0.75]\n",
    "    skewed_feats = skewed_feats.index\n",
    "\n",
    "    c[skewed_feats] = np.log1p(c[skewed_feats])\n",
    "    return c "
   ]
  },
  {
   "cell_type": "code",
   "execution_count": 11,
   "metadata": {},
   "outputs": [
    {
     "data": {
      "text/html": [
       "<div>\n",
       "<style scoped>\n",
       "    .dataframe tbody tr th:only-of-type {\n",
       "        vertical-align: middle;\n",
       "    }\n",
       "\n",
       "    .dataframe tbody tr th {\n",
       "        vertical-align: top;\n",
       "    }\n",
       "\n",
       "    .dataframe thead th {\n",
       "        text-align: right;\n",
       "    }\n",
       "</style>\n",
       "<table border=\"1\" class=\"dataframe\">\n",
       "  <thead>\n",
       "    <tr style=\"text-align: right;\">\n",
       "      <th></th>\n",
       "      <th>values</th>\n",
       "      <th>NaN vals</th>\n",
       "      <th>(%) NaN</th>\n",
       "    </tr>\n",
       "  </thead>\n",
       "  <tbody>\n",
       "    <tr>\n",
       "      <td>Alley</td>\n",
       "      <td>193</td>\n",
       "      <td>2693</td>\n",
       "      <td>0.933125</td>\n",
       "    </tr>\n",
       "    <tr>\n",
       "      <td>BsmtCond</td>\n",
       "      <td>2804</td>\n",
       "      <td>82</td>\n",
       "      <td>0.028413</td>\n",
       "    </tr>\n",
       "    <tr>\n",
       "      <td>BsmtExposure</td>\n",
       "      <td>2804</td>\n",
       "      <td>82</td>\n",
       "      <td>0.028413</td>\n",
       "    </tr>\n",
       "    <tr>\n",
       "      <td>BsmtFinType1</td>\n",
       "      <td>2807</td>\n",
       "      <td>79</td>\n",
       "      <td>0.027374</td>\n",
       "    </tr>\n",
       "    <tr>\n",
       "      <td>BsmtFinType2</td>\n",
       "      <td>2806</td>\n",
       "      <td>80</td>\n",
       "      <td>0.027720</td>\n",
       "    </tr>\n",
       "    <tr>\n",
       "      <td>BsmtQual</td>\n",
       "      <td>2805</td>\n",
       "      <td>81</td>\n",
       "      <td>0.028067</td>\n",
       "    </tr>\n",
       "    <tr>\n",
       "      <td>Electrical</td>\n",
       "      <td>2885</td>\n",
       "      <td>1</td>\n",
       "      <td>0.000347</td>\n",
       "    </tr>\n",
       "    <tr>\n",
       "      <td>Exterior1st</td>\n",
       "      <td>2885</td>\n",
       "      <td>1</td>\n",
       "      <td>0.000347</td>\n",
       "    </tr>\n",
       "    <tr>\n",
       "      <td>Exterior2nd</td>\n",
       "      <td>2885</td>\n",
       "      <td>1</td>\n",
       "      <td>0.000347</td>\n",
       "    </tr>\n",
       "    <tr>\n",
       "      <td>Fence</td>\n",
       "      <td>563</td>\n",
       "      <td>2323</td>\n",
       "      <td>0.804920</td>\n",
       "    </tr>\n",
       "    <tr>\n",
       "      <td>FireplaceQu</td>\n",
       "      <td>1471</td>\n",
       "      <td>1415</td>\n",
       "      <td>0.490298</td>\n",
       "    </tr>\n",
       "    <tr>\n",
       "      <td>Functional</td>\n",
       "      <td>2884</td>\n",
       "      <td>2</td>\n",
       "      <td>0.000693</td>\n",
       "    </tr>\n",
       "    <tr>\n",
       "      <td>GarageCond</td>\n",
       "      <td>2729</td>\n",
       "      <td>157</td>\n",
       "      <td>0.054401</td>\n",
       "    </tr>\n",
       "    <tr>\n",
       "      <td>GarageFinish</td>\n",
       "      <td>2729</td>\n",
       "      <td>157</td>\n",
       "      <td>0.054401</td>\n",
       "    </tr>\n",
       "    <tr>\n",
       "      <td>GarageQual</td>\n",
       "      <td>2729</td>\n",
       "      <td>157</td>\n",
       "      <td>0.054401</td>\n",
       "    </tr>\n",
       "    <tr>\n",
       "      <td>GarageType</td>\n",
       "      <td>2731</td>\n",
       "      <td>155</td>\n",
       "      <td>0.053708</td>\n",
       "    </tr>\n",
       "    <tr>\n",
       "      <td>KitchenQual</td>\n",
       "      <td>2885</td>\n",
       "      <td>1</td>\n",
       "      <td>0.000347</td>\n",
       "    </tr>\n",
       "    <tr>\n",
       "      <td>MSZoning</td>\n",
       "      <td>2882</td>\n",
       "      <td>4</td>\n",
       "      <td>0.001386</td>\n",
       "    </tr>\n",
       "    <tr>\n",
       "      <td>MasVnrType</td>\n",
       "      <td>2863</td>\n",
       "      <td>23</td>\n",
       "      <td>0.007970</td>\n",
       "    </tr>\n",
       "    <tr>\n",
       "      <td>MiscFeature</td>\n",
       "      <td>102</td>\n",
       "      <td>2784</td>\n",
       "      <td>0.964657</td>\n",
       "    </tr>\n",
       "    <tr>\n",
       "      <td>PoolQC</td>\n",
       "      <td>7</td>\n",
       "      <td>2879</td>\n",
       "      <td>0.997574</td>\n",
       "    </tr>\n",
       "    <tr>\n",
       "      <td>SaleType</td>\n",
       "      <td>2885</td>\n",
       "      <td>1</td>\n",
       "      <td>0.000347</td>\n",
       "    </tr>\n",
       "    <tr>\n",
       "      <td>Utilities</td>\n",
       "      <td>2884</td>\n",
       "      <td>2</td>\n",
       "      <td>0.000693</td>\n",
       "    </tr>\n",
       "  </tbody>\n",
       "</table>\n",
       "</div>"
      ],
      "text/plain": [
       "              values  NaN vals   (%) NaN\n",
       "Alley            193      2693  0.933125\n",
       "BsmtCond        2804        82  0.028413\n",
       "BsmtExposure    2804        82  0.028413\n",
       "BsmtFinType1    2807        79  0.027374\n",
       "BsmtFinType2    2806        80  0.027720\n",
       "BsmtQual        2805        81  0.028067\n",
       "Electrical      2885         1  0.000347\n",
       "Exterior1st     2885         1  0.000347\n",
       "Exterior2nd     2885         1  0.000347\n",
       "Fence            563      2323  0.804920\n",
       "FireplaceQu     1471      1415  0.490298\n",
       "Functional      2884         2  0.000693\n",
       "GarageCond      2729       157  0.054401\n",
       "GarageFinish    2729       157  0.054401\n",
       "GarageQual      2729       157  0.054401\n",
       "GarageType      2731       155  0.053708\n",
       "KitchenQual     2885         1  0.000347\n",
       "MSZoning        2882         4  0.001386\n",
       "MasVnrType      2863        23  0.007970\n",
       "MiscFeature      102      2784  0.964657\n",
       "PoolQC             7      2879  0.997574\n",
       "SaleType        2885         1  0.000347\n",
       "Utilities       2884         2  0.000693"
      ]
     },
     "execution_count": 11,
     "metadata": {},
     "output_type": "execute_result"
    }
   ],
   "source": [
    "missing_numcat(df, categorical=True) #Before"
   ]
  },
  {
   "cell_type": "code",
   "execution_count": 12,
   "metadata": {},
   "outputs": [
    {
     "data": {
      "text/html": [
       "<div>\n",
       "<style scoped>\n",
       "    .dataframe tbody tr th:only-of-type {\n",
       "        vertical-align: middle;\n",
       "    }\n",
       "\n",
       "    .dataframe tbody tr th {\n",
       "        vertical-align: top;\n",
       "    }\n",
       "\n",
       "    .dataframe thead th {\n",
       "        text-align: right;\n",
       "    }\n",
       "</style>\n",
       "<table border=\"1\" class=\"dataframe\">\n",
       "  <thead>\n",
       "    <tr style=\"text-align: right;\">\n",
       "      <th></th>\n",
       "      <th>values</th>\n",
       "      <th>NaN vals</th>\n",
       "      <th>(%) NaN</th>\n",
       "    </tr>\n",
       "  </thead>\n",
       "  <tbody>\n",
       "    <tr>\n",
       "      <td>BsmtFinSF1</td>\n",
       "      <td>2885</td>\n",
       "      <td>1</td>\n",
       "      <td>0.000347</td>\n",
       "    </tr>\n",
       "    <tr>\n",
       "      <td>BsmtFinSF2</td>\n",
       "      <td>2885</td>\n",
       "      <td>1</td>\n",
       "      <td>0.000347</td>\n",
       "    </tr>\n",
       "    <tr>\n",
       "      <td>BsmtFullBath</td>\n",
       "      <td>2884</td>\n",
       "      <td>2</td>\n",
       "      <td>0.000693</td>\n",
       "    </tr>\n",
       "    <tr>\n",
       "      <td>BsmtHalfBath</td>\n",
       "      <td>2884</td>\n",
       "      <td>2</td>\n",
       "      <td>0.000693</td>\n",
       "    </tr>\n",
       "    <tr>\n",
       "      <td>BsmtUnfSF</td>\n",
       "      <td>2885</td>\n",
       "      <td>1</td>\n",
       "      <td>0.000347</td>\n",
       "    </tr>\n",
       "    <tr>\n",
       "      <td>GarageArea</td>\n",
       "      <td>2885</td>\n",
       "      <td>1</td>\n",
       "      <td>0.000347</td>\n",
       "    </tr>\n",
       "    <tr>\n",
       "      <td>GarageCars</td>\n",
       "      <td>2885</td>\n",
       "      <td>1</td>\n",
       "      <td>0.000347</td>\n",
       "    </tr>\n",
       "    <tr>\n",
       "      <td>GarageYrBlt</td>\n",
       "      <td>2729</td>\n",
       "      <td>157</td>\n",
       "      <td>0.054401</td>\n",
       "    </tr>\n",
       "    <tr>\n",
       "      <td>LotFrontage</td>\n",
       "      <td>2407</td>\n",
       "      <td>479</td>\n",
       "      <td>0.165974</td>\n",
       "    </tr>\n",
       "    <tr>\n",
       "      <td>MasVnrArea</td>\n",
       "      <td>2864</td>\n",
       "      <td>22</td>\n",
       "      <td>0.007623</td>\n",
       "    </tr>\n",
       "    <tr>\n",
       "      <td>TotalBsmtSF</td>\n",
       "      <td>2885</td>\n",
       "      <td>1</td>\n",
       "      <td>0.000347</td>\n",
       "    </tr>\n",
       "  </tbody>\n",
       "</table>\n",
       "</div>"
      ],
      "text/plain": [
       "              values  NaN vals   (%) NaN\n",
       "BsmtFinSF1      2885         1  0.000347\n",
       "BsmtFinSF2      2885         1  0.000347\n",
       "BsmtFullBath    2884         2  0.000693\n",
       "BsmtHalfBath    2884         2  0.000693\n",
       "BsmtUnfSF       2885         1  0.000347\n",
       "GarageArea      2885         1  0.000347\n",
       "GarageCars      2885         1  0.000347\n",
       "GarageYrBlt     2729       157  0.054401\n",
       "LotFrontage     2407       479  0.165974\n",
       "MasVnrArea      2864        22  0.007623\n",
       "TotalBsmtSF     2885         1  0.000347"
      ]
     },
     "execution_count": 12,
     "metadata": {},
     "output_type": "execute_result"
    }
   ],
   "source": [
    "missing_numcat(df, categorical=False)"
   ]
  },
  {
   "cell_type": "code",
   "execution_count": 13,
   "metadata": {},
   "outputs": [],
   "source": [
    "df['MSSubClass'] = df['MSSubClass'].apply(str)\n",
    "df['YrSold'] = df['YrSold'].astype(str)\n",
    "df['MoSold'] = df['MoSold'].astype(str)\n",
    "df['Functional'] = df['Functional'].fillna('Typ') \n",
    "df['Electrical'] = df['Electrical'].fillna(\"SBrkr\") \n",
    "df['KitchenQual'] = df['KitchenQual'].fillna(\"TA\") \n",
    "df[\"PoolQC\"] = df[\"PoolQC\"].fillna(\"None\")\n",
    "df['Exterior1st'] = df['Exterior1st'].fillna(df['Exterior1st'].mode()[0]) \n",
    "df['Exterior2nd'] = df['Exterior2nd'].fillna(df['Exterior2nd'].mode()[0])\n",
    "df['SaleType'] = df['SaleType'].fillna(df['SaleType'].mode()[0])"
   ]
  },
  {
   "cell_type": "code",
   "execution_count": 14,
   "metadata": {},
   "outputs": [],
   "source": [
    "#Garage\n",
    "df['GarageYrBlt'] = df['GarageYrBlt'].fillna(0)\n",
    "df['GarageArea'] = df['GarageArea'].fillna(0)\n",
    "df['GarageCars'] = df['GarageCars'].fillna(0)\n",
    "df['GarageType'] = df['GarageType'].fillna(\"None\")\n",
    "df['GarageFinish'] = df['GarageFinish'].fillna(\"None\")\n",
    "df['GarageQual'] = df['GarageQual'].fillna(\"None\")\n",
    "df['GarageCond'] = df['GarageCond'].fillna(\"None\")"
   ]
  },
  {
   "cell_type": "code",
   "execution_count": 15,
   "metadata": {},
   "outputs": [],
   "source": [
    "#Basement\n",
    "df['BsmtQual'] = df['BsmtQual'].fillna(\"None\")\n",
    "df['BsmtCond'] = df['BsmtCond'].fillna(\"None\")\n",
    "df['BsmtExposure'] = df['BsmtExposure'].fillna(\"None\")\n",
    "df['BsmtFinType1'] = df['BsmtFinType1'].fillna(\"None\")\n",
    "df['BsmtFinType2'] = df['BsmtFinType2'].fillna(\"None\")"
   ]
  },
  {
   "cell_type": "code",
   "execution_count": 16,
   "metadata": {},
   "outputs": [],
   "source": [
    "#MSzoning\n",
    "df['MSZoning'] = df.groupby('MSSubClass')['MSZoning'].transform(lambda x: x.fillna(x.mode()[0]))"
   ]
  },
  {
   "cell_type": "code",
   "execution_count": 17,
   "metadata": {},
   "outputs": [],
   "source": [
    "#Fill none with categorical\n",
    "objects = []\n",
    "for i in df.columns:\n",
    "    if df[i].dtype == object:\n",
    "        objects.append(i)\n",
    "df.update(df[objects].fillna('None'))"
   ]
  },
  {
   "cell_type": "code",
   "execution_count": 18,
   "metadata": {},
   "outputs": [],
   "source": [
    "df['LotFrontage'] = df.groupby('Neighborhood')['LotFrontage'].transform(lambda x: x.fillna(x.median()))"
   ]
  },
  {
   "cell_type": "code",
   "execution_count": null,
   "metadata": {},
   "outputs": [],
   "source": []
  },
  {
   "cell_type": "code",
   "execution_count": 19,
   "metadata": {},
   "outputs": [],
   "source": [
    "#Fill Zero with numerical\n",
    "numeric_dtypes = ['int16', 'int32', 'int64', 'float16', 'float32', 'float64']\n",
    "numerics = []\n",
    "for i in df.columns:\n",
    "    if df[i].dtype in numeric_dtypes:\n",
    "        numerics.append(i)\n",
    "\n",
    "        df.update(df[numerics].fillna(0))"
   ]
  },
  {
   "cell_type": "code",
   "execution_count": 20,
   "metadata": {},
   "outputs": [],
   "source": [
    "from scipy.special import boxcox1p\n",
    "from scipy.stats import boxcox_normmax\n",
    "#Fixing skewnes with numerical\n",
    "numeric_dtypes = ['int16', 'int32', 'int64', 'float16', 'float32', 'float64']\n",
    "numerics2 = []\n",
    "for i in df.columns:\n",
    "    if df[i].dtype in numeric_dtypes:\n",
    "        numerics2.append(i)\n",
    "skew_features = df[numerics2].apply(lambda x: skew(x)).sort_values(ascending=False)\n",
    "\n",
    "high_skew = skew_features[skew_features > 0.5]\n",
    "skew_index = high_skew.index\n",
    "\n",
    "for i in skew_index:\n",
    "    df[i] = boxcox1p(df[i], boxcox_normmax(df[i] + 1))"
   ]
  },
  {
   "cell_type": "code",
   "execution_count": 21,
   "metadata": {},
   "outputs": [],
   "source": [
    "#Function that fixes skewnes\n",
    "from scipy.stats import skew\n",
    "def fix_skew(c):\n",
    "    \"\"\"This function takes only numeric portion of the dataset and fix skewnes\"\"\"\n",
    "    numeric_feats = c.dtypes[c.dtypes != \"object\"].index\n",
    "\n",
    "    skewed_feats = c[numeric_feats].apply(lambda x: skew(x.dropna())) #compute skewness\n",
    "    skewed_feats = skewed_feats[skewed_feats > 0.5]\n",
    "    skewed_feats = skewed_feats.index\n",
    "\n",
    "    c[skewed_feats] = np.log1p(c[skewed_feats])\n",
    "    return c \n",
    "\n",
    "df = fix_skew(df)\n",
    "\n",
    "#Print evaluation results\n",
    "from sklearn.metrics import mean_squared_error, mean_squared_log_error\n",
    "def evaluate(X_train, y_train, X_test,y_test, clf):\n",
    "    clf_predict_train = clf.predict(X_train)\n",
    "    clf_predict_test = clf.predict(X_test)\n",
    "    clfmse_train = mean_squared_error(np.expm1(y_train), np.expm1(clf_predict_train))**0.5\n",
    "    clfmse_test = mean_squared_error(np.expm1(y_test), np.expm1(clf_predict_test))**0.5\n",
    "    clfrmse_train = mean_squared_log_error(np.expm1(y_train), np.expm1(clf_predict_train))**0.5\n",
    "    clfrmse_test = mean_squared_log_error(np.expm1(y_test), np.expm1(clf_predict_test))**0.5\n",
    "    print(\"Evaluate---\",\"***\", \"----\")\n",
    "    print(\"RMSE-train\",clfmse_train)\n",
    "    print(\"RMSE-test\", clfmse_test)\n",
    "    print((\"RMSE-test - RMSE-Train\", (clfmse_train - clfmse_test)))\n",
    "    print(\"RMSLE-train\", clfrmse_train)\n",
    "    print(\"RMSLE-test\", clfrmse_test)"
   ]
  },
  {
   "cell_type": "code",
   "execution_count": 22,
   "metadata": {},
   "outputs": [],
   "source": [
    "#Adding new features and drop non informative\n",
    "\n",
    "df = df.drop(['Utilities', 'Street', 'PoolQC',], axis=1)\n",
    "\n",
    "df['YrBltAndRemod']=df['YearBuilt']+df['YearRemodAdd']\n",
    "df['TotalSF']=df['TotalBsmtSF'] + df['1stFlrSF'] + df['2ndFlrSF']\n",
    "\n",
    "df['Total_sqr_footage'] = (df['BsmtFinSF1'] + df['BsmtFinSF2'] +\n",
    "                                 df['1stFlrSF'] + df['2ndFlrSF'])\n",
    "\n",
    "df['Total_Bathrooms'] = (df['FullBath'] + (0.5 * df['HalfBath']) +\n",
    "                               df['BsmtFullBath'] + (0.5 * df['BsmtHalfBath']))\n",
    "\n",
    "df['Total_porch_sf'] = (df['OpenPorchSF'] + df['3SsnPorch'] +\n",
    "                              df['EnclosedPorch'] + df['ScreenPorch'] +\n",
    "                              df['WoodDeckSF'])"
   ]
  },
  {
   "cell_type": "code",
   "execution_count": 23,
   "metadata": {},
   "outputs": [],
   "source": [
    "df['haspool'] = df['PoolArea'].apply(lambda x: 1 if x > 0 else 0)\n",
    "df['has2ndfloor'] = df['2ndFlrSF'].apply(lambda x: 1 if x > 0 else 0)\n",
    "df['hasgarage'] = df['GarageArea'].apply(lambda x: 1 if x > 0 else 0)\n",
    "df['hasbsmt'] = df['TotalBsmtSF'].apply(lambda x: 1 if x > 0 else 0)\n",
    "df['hasfireplace'] = df['Fireplaces'].apply(lambda x: 1 if x > 0 else 0)"
   ]
  },
  {
   "cell_type": "code",
   "execution_count": null,
   "metadata": {},
   "outputs": [],
   "source": []
  },
  {
   "cell_type": "code",
   "execution_count": 24,
   "metadata": {},
   "outputs": [
    {
     "data": {
      "text/html": [
       "<div>\n",
       "<style scoped>\n",
       "    .dataframe tbody tr th:only-of-type {\n",
       "        vertical-align: middle;\n",
       "    }\n",
       "\n",
       "    .dataframe tbody tr th {\n",
       "        vertical-align: top;\n",
       "    }\n",
       "\n",
       "    .dataframe thead th {\n",
       "        text-align: right;\n",
       "    }\n",
       "</style>\n",
       "<table border=\"1\" class=\"dataframe\">\n",
       "  <thead>\n",
       "    <tr style=\"text-align: right;\">\n",
       "      <th></th>\n",
       "      <th>values</th>\n",
       "      <th>NaN vals</th>\n",
       "      <th>(%) NaN</th>\n",
       "    </tr>\n",
       "  </thead>\n",
       "  <tbody>\n",
       "  </tbody>\n",
       "</table>\n",
       "</div>"
      ],
      "text/plain": [
       "Empty DataFrame\n",
       "Columns: [values, NaN vals, (%) NaN]\n",
       "Index: []"
      ]
     },
     "execution_count": 24,
     "metadata": {},
     "output_type": "execute_result"
    }
   ],
   "source": [
    "#Check for missing values in categorical\n",
    "missing_numcat(df, categorical=True)"
   ]
  },
  {
   "cell_type": "code",
   "execution_count": 25,
   "metadata": {},
   "outputs": [
    {
     "data": {
      "text/html": [
       "<div>\n",
       "<style scoped>\n",
       "    .dataframe tbody tr th:only-of-type {\n",
       "        vertical-align: middle;\n",
       "    }\n",
       "\n",
       "    .dataframe tbody tr th {\n",
       "        vertical-align: top;\n",
       "    }\n",
       "\n",
       "    .dataframe thead th {\n",
       "        text-align: right;\n",
       "    }\n",
       "</style>\n",
       "<table border=\"1\" class=\"dataframe\">\n",
       "  <thead>\n",
       "    <tr style=\"text-align: right;\">\n",
       "      <th></th>\n",
       "      <th>values</th>\n",
       "      <th>NaN vals</th>\n",
       "      <th>(%) NaN</th>\n",
       "    </tr>\n",
       "  </thead>\n",
       "  <tbody>\n",
       "  </tbody>\n",
       "</table>\n",
       "</div>"
      ],
      "text/plain": [
       "Empty DataFrame\n",
       "Columns: [values, NaN vals, (%) NaN]\n",
       "Index: []"
      ]
     },
     "execution_count": 25,
     "metadata": {},
     "output_type": "execute_result"
    }
   ],
   "source": [
    "#Check for missing values in numerical\n",
    "missing_numcat(df, categorical=False)"
   ]
  },
  {
   "cell_type": "code",
   "execution_count": 26,
   "metadata": {},
   "outputs": [
    {
     "name": "stdout",
     "output_type": "stream",
     "text": [
      "(2886, 86)\n"
     ]
    }
   ],
   "source": [
    "#Check shape\n",
    "print(df.shape)"
   ]
  },
  {
   "cell_type": "code",
   "execution_count": 27,
   "metadata": {},
   "outputs": [],
   "source": [
    "#COnvert categorical values using dummy\n",
    "#final = pd.get_dummies(df).reset_index(drop=True)\n",
    "#final.shape\n",
    "final = df"
   ]
  },
  {
   "cell_type": "code",
   "execution_count": 28,
   "metadata": {},
   "outputs": [
    {
     "data": {
      "text/plain": [
       "((1427, 86), (1427,), (1459, 86))"
      ]
     },
     "execution_count": 28,
     "metadata": {},
     "output_type": "execute_result"
    }
   ],
   "source": [
    "X = final.iloc[:len(y), :]\n",
    "X_test = final.iloc[len(y):, :]\n",
    "X.shape, y.shape, X_test.shape"
   ]
  },
  {
   "cell_type": "code",
   "execution_count": 29,
   "metadata": {},
   "outputs": [
    {
     "name": "stdout",
     "output_type": "stream",
     "text": [
      "['3SsnPorch', 'Alley', 'BsmtHalfBath', 'CentralAir', 'Condition2', 'Electrical', 'Functional', 'GarageCond', 'Heating', 'KitchenAbvGr', 'LandContour', 'LandSlope', 'LowQualFinSF', 'MiscFeature', 'MiscVal', 'PavedDrive', 'PoolArea', 'RoofMatl', 'ScreenPorch', 'haspool', 'hasgarage', 'hasbsmt']\n"
     ]
    }
   ],
   "source": [
    "outliers = [30, 88, 462, 631, 1322]\n",
    "X = X.drop(X.index[outliers])\n",
    "y = y.drop(y.index[outliers])\n",
    "\n",
    "overfit = []\n",
    "for i in X.columns:\n",
    "    counts = X[i].value_counts()\n",
    "    zeros = counts.iloc[0]\n",
    "    if zeros / len(X) * 100 > 90:\n",
    "        overfit.append(i)\n",
    "\n",
    "overfit = list(overfit)\n",
    "print(overfit)\n",
    "#X = X.drop(overfit, axis=1)\n",
    "#X_test = X_test.drop(overfit, axis=1)"
   ]
  },
  {
   "cell_type": "code",
   "execution_count": 30,
   "metadata": {},
   "outputs": [
    {
     "data": {
      "text/plain": [
       "((1422, 86), (1422,), (1459, 86))"
      ]
     },
     "execution_count": 30,
     "metadata": {},
     "output_type": "execute_result"
    }
   ],
   "source": [
    "X.shape, y.shape, X_test.shape"
   ]
  },
  {
   "cell_type": "code",
   "execution_count": 31,
   "metadata": {},
   "outputs": [],
   "source": [
    "#For stratification\n",
    "Z = pd.concat((X,y), axis=1)"
   ]
  },
  {
   "cell_type": "code",
   "execution_count": 32,
   "metadata": {},
   "outputs": [],
   "source": [
    "#Grids\n",
    "alphas_alt = [14.5, 14.6, 14.7, 14.8, 14.9, 15, 15.1, 15.2, 15.3, 15.4, 15.5]\n",
    "alphas2 = [5e-05, 0.0001, 0.0002, 0.0003, 0.0004, 0.0005, 0.0006, 0.0007, 0.0008]\n",
    "e_alphas = [0.0001, 0.0002, 0.0003, 0.0004, 0.0005, 0.0006, 0.0007]\n",
    "kfolds = KFold(n_splits=10, shuffle=True, random_state=42)\n",
    "e_l1ratio = [0.8, 0.85, 0.9, 0.95, 0.99, 1]"
   ]
  },
  {
   "cell_type": "code",
   "execution_count": 33,
   "metadata": {},
   "outputs": [],
   "source": [
    "#Split  training dataset to train and test set\n",
    "from sklearn.model_selection import train_test_split, StratifiedShuffleSplit\n",
    "#X_train, X_test, y_train, y_test = train_test_split(X, y, test_size=0.13, random_state=42)\n",
    "\n",
    "split = StratifiedShuffleSplit(n_splits=1, test_size=0.3, train_size=0.7, random_state=24)\n",
    "\n",
    "for train_index, test_index in split.split(Z, Z['Neighborhood']):\n",
    "    str_train = Z.iloc[train_index]\n",
    "    str_test   = Z.iloc[test_index]\n",
    "    \n",
    "\n",
    "y_train = str_train['SalePrice']\n",
    "y_ver  = str_test['SalePrice']\n",
    "X_train = str_train.drop('SalePrice', axis = 1)\n",
    "X_ver = str_test.drop('SalePrice', axis = 1)"
   ]
  },
  {
   "cell_type": "code",
   "execution_count": null,
   "metadata": {},
   "outputs": [],
   "source": []
  },
  {
   "cell_type": "code",
   "execution_count": 34,
   "metadata": {},
   "outputs": [],
   "source": [
    "from sklearn.pipeline import Pipeline\n",
    "from sklearn.preprocessing import StandardScaler, OneHotEncoder, MinMaxScaler, RobustScaler, Normalizer\n",
    "from sklearn.impute import SimpleImputer\n",
    "\n",
    "\n",
    "housing_num = X_train._get_numeric_data()\n",
    "housing_cat = X_train.select_dtypes('object')"
   ]
  },
  {
   "cell_type": "code",
   "execution_count": 35,
   "metadata": {},
   "outputs": [],
   "source": [
    "num_pipeline = Pipeline([\n",
    "    ('std_scal', RobustScaler()),\n",
    "])"
   ]
  },
  {
   "cell_type": "code",
   "execution_count": 36,
   "metadata": {},
   "outputs": [],
   "source": [
    "cat_pipeline = Pipeline([\n",
    "    ('one_hen', OneHotEncoder(handle_unknown='ignore')),\n",
    "])"
   ]
  },
  {
   "cell_type": "code",
   "execution_count": 37,
   "metadata": {},
   "outputs": [],
   "source": [
    "from sklearn.compose import ColumnTransformer\n",
    "from sklearn.impute import SimpleImputer\n",
    "num_attrs = housing_num.columns.tolist()\n",
    "cat_attrs = housing_cat.columns.tolist()\n",
    "full_pipeline = ColumnTransformer([\n",
    "    \n",
    "    ('numerical_pl', num_pipeline, num_attrs),\n",
    "    ('categorical_pl', cat_pipeline, cat_attrs ),\n",
    "])"
   ]
  },
  {
   "cell_type": "code",
   "execution_count": 38,
   "metadata": {},
   "outputs": [],
   "source": [
    "X_train_prepared = full_pipeline.fit_transform(X_train)\n",
    "X_ver_prepared = full_pipeline.transform(X_ver)\n",
    "test_prepared = full_pipeline.transform(X_test)"
   ]
  },
  {
   "cell_type": "raw",
   "metadata": {},
   "source": [
    "# Importing Ridge. \n",
    "from sklearn.linear_model import Ridge\n",
    "from sklearn.metrics import mean_absolute_error, mean_squared_error\n",
    "## Assiging different sets of alpha values to explore which can be the best fit for the model. \n",
    "alpha_ridge = [-3,-2,-1,1e-15, 1e-10, 1e-8,1e-5,1e-4, 1e-3,1e-2,0.5,1,1.5, 2,3,4, 5, 10, 20, 30, 40]\n",
    "temp_rss = {}\n",
    "temp_mse = {}\n",
    "for i in alpha_ridge:\n",
    "    ## Assigin each model. \n",
    "    ridge = Ridge(alpha= i, normalize=False)\n",
    "    ## fit the model. \n",
    "    ridge.fit(X_train_prepared, y_train)\n",
    "    ## Predicting the target value based on \"Test_x\"\n",
    "    y_pred = ridge.predict(X_ver_prepared)\n",
    "\n",
    "    mse = mean_squared_error(y_ver, y_pred)\n",
    "    rss = sum((y_pred-y_ver)**2)\n",
    "    temp_mse[i] = mse\n",
    "    temp_rss[i] = rss\n",
    "    \n",
    "for key, value in sorted(temp_mse.items(), key=lambda item: item[1]):\n",
    "    print(\"%s: %s\" % (key, value))    "
   ]
  },
  {
   "cell_type": "code",
   "execution_count": 39,
   "metadata": {},
   "outputs": [
    {
     "data": {
      "text/plain": [
       "RidgeCV(alphas=array([ 0.1,  1. , 10. ]), cv=None, fit_intercept=True,\n",
       "        gcv_mode=None, normalize=False, scoring=None, store_cv_values=False)"
      ]
     },
     "execution_count": 39,
     "metadata": {},
     "output_type": "execute_result"
    }
   ],
   "source": [
    "from sklearn.linear_model import Ridge\n",
    "rdg = RidgeCV()\n",
    "rdg.fit(X_train_prepared, y_train)"
   ]
  },
  {
   "cell_type": "code",
   "execution_count": 40,
   "metadata": {},
   "outputs": [
    {
     "name": "stdout",
     "output_type": "stream",
     "text": [
      "Evaluate--- *** ----\n",
      "RMSE-train 16837.398358967268\n",
      "RMSE-test 22265.405322765517\n",
      "('RMSE-test - RMSE-Train', -5428.006963798249)\n",
      "RMSLE-train 0.09078240064805718\n",
      "RMSLE-test 0.1100897745889497\n"
     ]
    }
   ],
   "source": [
    "#Ridge\n",
    "evaluate(X_train_prepared, y_train, X_ver_prepared, y_ver,rdg)"
   ]
  },
  {
   "cell_type": "code",
   "execution_count": 48,
   "metadata": {},
   "outputs": [
    {
     "data": {
      "text/plain": [
       "ElasticNetCV(alphas=[14.5, 14.6, 14.7, 14.8, 14.9, 15, 15.1, 15.2, 15.3, 15.4,\n",
       "                     15.5],\n",
       "             copy_X=True, cv='warn', eps=0.001, fit_intercept=True,\n",
       "             l1_ratio=0.5, max_iter=1000, n_alphas=100, n_jobs=None,\n",
       "             normalize=False, positive=False, precompute='auto',\n",
       "             random_state=None, selection='cyclic', tol=0.0001, verbose=0)"
      ]
     },
     "execution_count": 48,
     "metadata": {},
     "output_type": "execute_result"
    }
   ],
   "source": [
    "elastic_net = ElasticNetCV(alphas=alphas_alt)\n",
    "elastic_net.fit(X_train_prepared, y_train)"
   ]
  },
  {
   "cell_type": "code",
   "execution_count": 49,
   "metadata": {},
   "outputs": [
    {
     "name": "stdout",
     "output_type": "stream",
     "text": [
      "Evaluate--- *** ----\n",
      "RMSE-train 81136.63176364661\n",
      "RMSE-test 80186.79673322012\n",
      "('RMSE-test - RMSE-Train', 949.8350304264895)\n",
      "RMSLE-train 0.4026841070029064\n",
      "RMSLE-test 0.3858349087330694\n"
     ]
    }
   ],
   "source": [
    "#Elastic nET\n",
    "evaluate(X_train_prepared, y_train, X_ver_prepared, y_ver,elastic_net)"
   ]
  },
  {
   "cell_type": "code",
   "execution_count": 43,
   "metadata": {},
   "outputs": [
    {
     "name": "stdout",
     "output_type": "stream",
     "text": [
      "Evaluate--- *** ----\n",
      "RMSE-train 19682.997221295856\n",
      "RMSE-test 23353.09224494613\n",
      "('RMSE-test - RMSE-Train', -3670.095023650272)\n",
      "RMSLE-train 0.10507958235184374\n",
      "RMSLE-test 0.11275485668933945\n"
     ]
    }
   ],
   "source": [
    "#LASSO\n",
    "lasso = LassoCV()\n",
    "\n",
    "lasso.fit(X_train_prepared, y_train)\n",
    "\n",
    "#Lasso\n",
    "evaluate(X_train_prepared, y_train, X_ver_prepared, y_ver,lasso)"
   ]
  },
  {
   "cell_type": "code",
   "execution_count": 44,
   "metadata": {},
   "outputs": [
    {
     "name": "stdout",
     "output_type": "stream",
     "text": [
      "Evaluate--- *** ----\n",
      "RMSE-train 18565.36841339645\n",
      "RMSE-test 24305.294566492725\n",
      "('RMSE-test - RMSE-Train', -5739.926153096276)\n",
      "RMSLE-train 0.09791200902697306\n",
      "RMSLE-test 0.11705475296214081\n"
     ]
    }
   ],
   "source": [
    "#svr\n",
    "svr = SVR()\n",
    "svr.fit(X_train_prepared, y_train)\n",
    "\n",
    "#SVR\n",
    "evaluate(X_train_prepared, y_train, X_ver_prepared, y_ver,svr)"
   ]
  },
  {
   "cell_type": "code",
   "execution_count": 45,
   "metadata": {},
   "outputs": [
    {
     "name": "stdout",
     "output_type": "stream",
     "text": [
      "Evaluate--- *** ----\n",
      "RMSE-train 13485.46846114694\n",
      "RMSE-test 27408.762373783175\n",
      "('RMSE-test - RMSE-Train', -13923.293912636234)\n",
      "RMSLE-train 0.07117758705505402\n",
      "RMSLE-test 0.12313082105743182\n"
     ]
    }
   ],
   "source": [
    "#GRADIENT BOOSTING REGRESSOR\n",
    "gbr = GradientBoostingRegressor()\n",
    "gbr.fit(X_train_prepared, y_train)\n",
    "#gbr\n",
    "evaluate(X_train_prepared, y_train, X_ver_prepared, y_ver,gbr)"
   ]
  },
  {
   "cell_type": "code",
   "execution_count": 46,
   "metadata": {},
   "outputs": [
    {
     "data": {
      "text/plain": [
       "array([121150.47757047, 163082.19183483, 189819.87257633, ...,\n",
       "       172190.88262456, 123968.16735733, 236788.34211046])"
      ]
     },
     "execution_count": 46,
     "metadata": {},
     "output_type": "execute_result"
    }
   ],
   "source": [
    "rf_predict = elastic_net.predict(test_prepared)\n",
    "rf_predict = np.expm1(rf_predict)\n",
    "rf_predict"
   ]
  },
  {
   "cell_type": "code",
   "execution_count": 47,
   "metadata": {},
   "outputs": [
    {
     "data": {
      "text/html": [
       "<div>\n",
       "<style scoped>\n",
       "    .dataframe tbody tr th:only-of-type {\n",
       "        vertical-align: middle;\n",
       "    }\n",
       "\n",
       "    .dataframe tbody tr th {\n",
       "        vertical-align: top;\n",
       "    }\n",
       "\n",
       "    .dataframe thead th {\n",
       "        text-align: right;\n",
       "    }\n",
       "</style>\n",
       "<table border=\"1\" class=\"dataframe\">\n",
       "  <thead>\n",
       "    <tr style=\"text-align: right;\">\n",
       "      <th></th>\n",
       "      <th>Id</th>\n",
       "      <th>SalePrice</th>\n",
       "    </tr>\n",
       "  </thead>\n",
       "  <tbody>\n",
       "    <tr>\n",
       "      <td>0</td>\n",
       "      <td>1461</td>\n",
       "      <td>121150.477570</td>\n",
       "    </tr>\n",
       "    <tr>\n",
       "      <td>1</td>\n",
       "      <td>1462</td>\n",
       "      <td>163082.191835</td>\n",
       "    </tr>\n",
       "    <tr>\n",
       "      <td>2</td>\n",
       "      <td>1463</td>\n",
       "      <td>189819.872576</td>\n",
       "    </tr>\n",
       "    <tr>\n",
       "      <td>3</td>\n",
       "      <td>1464</td>\n",
       "      <td>206290.970656</td>\n",
       "    </tr>\n",
       "    <tr>\n",
       "      <td>4</td>\n",
       "      <td>1465</td>\n",
       "      <td>185347.801463</td>\n",
       "    </tr>\n",
       "    <tr>\n",
       "      <td>...</td>\n",
       "      <td>...</td>\n",
       "      <td>...</td>\n",
       "    </tr>\n",
       "    <tr>\n",
       "      <td>1454</td>\n",
       "      <td>2915</td>\n",
       "      <td>90359.799619</td>\n",
       "    </tr>\n",
       "    <tr>\n",
       "      <td>1455</td>\n",
       "      <td>2916</td>\n",
       "      <td>86500.664149</td>\n",
       "    </tr>\n",
       "    <tr>\n",
       "      <td>1456</td>\n",
       "      <td>2917</td>\n",
       "      <td>172190.882625</td>\n",
       "    </tr>\n",
       "    <tr>\n",
       "      <td>1457</td>\n",
       "      <td>2918</td>\n",
       "      <td>123968.167357</td>\n",
       "    </tr>\n",
       "    <tr>\n",
       "      <td>1458</td>\n",
       "      <td>2919</td>\n",
       "      <td>236788.342110</td>\n",
       "    </tr>\n",
       "  </tbody>\n",
       "</table>\n",
       "<p>1459 rows × 2 columns</p>\n",
       "</div>"
      ],
      "text/plain": [
       "        Id      SalePrice\n",
       "0     1461  121150.477570\n",
       "1     1462  163082.191835\n",
       "2     1463  189819.872576\n",
       "3     1464  206290.970656\n",
       "4     1465  185347.801463\n",
       "...    ...            ...\n",
       "1454  2915   90359.799619\n",
       "1455  2916   86500.664149\n",
       "1456  2917  172190.882625\n",
       "1457  2918  123968.167357\n",
       "1458  2919  236788.342110\n",
       "\n",
       "[1459 rows x 2 columns]"
      ]
     },
     "execution_count": 47,
     "metadata": {},
     "output_type": "execute_result"
    }
   ],
   "source": [
    "final_df= pd.DataFrame(data=zip(Id_test,rf_predict), columns=['Id', 'SalePrice'])\n",
    "final_df.to_csv('zillow/sample_submission.csv', index=False, columns=['Id', 'SalePrice'])\n",
    "pd.read_csv('zillow/sample_submission.csv')\n",
    "final_df"
   ]
  },
  {
   "cell_type": "code",
   "execution_count": null,
   "metadata": {},
   "outputs": [],
   "source": []
  }
 ],
 "metadata": {
  "kernelspec": {
   "display_name": "Python 3",
   "language": "python",
   "name": "python3"
  },
  "language_info": {
   "codemirror_mode": {
    "name": "ipython",
    "version": 3
   },
   "file_extension": ".py",
   "mimetype": "text/x-python",
   "name": "python",
   "nbconvert_exporter": "python",
   "pygments_lexer": "ipython3",
   "version": "3.7.3"
  }
 },
 "nbformat": 4,
 "nbformat_minor": 2
}
