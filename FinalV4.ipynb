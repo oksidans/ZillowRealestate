{
 "cells": [
  {
   "cell_type": "code",
   "execution_count": 1,
   "metadata": {},
   "outputs": [],
   "source": [
    "import numpy as np\n",
    "import pandas as pd\n",
    "import matplotlib.pyplot as plt\n",
    "%matplotlib inline\n",
    "import seaborn as sns\n",
    "from scipy import stats\n",
    "\n",
    "\n",
    "import warnings\n",
    "warnings.filterwarnings('ignore')\n",
    "\n",
    "from sklearn.linear_model import ElasticNetCV, LassoCV, RidgeCV\n",
    "from sklearn.ensemble import GradientBoostingRegressor\n",
    "from sklearn.svm import SVR\n",
    "from sklearn.pipeline import make_pipeline\n",
    "from sklearn.preprocessing import RobustScaler\n",
    "from sklearn.model_selection import KFold, cross_val_score\n",
    "from sklearn.metrics import mean_squared_error\n"
   ]
  },
  {
   "cell_type": "code",
   "execution_count": 2,
   "metadata": {},
   "outputs": [],
   "source": [
    "#Importing dataset\n",
    "\n",
    "train = pd.read_csv('zillow/train.csv')\n",
    "\n",
    "#Test for evaluation\n",
    "test = pd.read_csv('zillow/test.csv')"
   ]
  },
  {
   "cell_type": "code",
   "execution_count": 3,
   "metadata": {},
   "outputs": [],
   "source": [
    "#Fixing typo\n",
    "\n",
    "train = train.replace({\"Exterior2nd\":{\"CmentBd\":\"CemntBd\"}})"
   ]
  },
  {
   "cell_type": "code",
   "execution_count": 4,
   "metadata": {},
   "outputs": [],
   "source": [
    "#Saving Id for further refference\n",
    "Id_train =train['Id']\n",
    "Id_test = test['Id']\n",
    "#Dropping Id from dataset\n",
    "train.drop('Id', axis=1, inplace=True)  #For feature engeneering\n",
    "test.drop('Id', axis=1, inplace = True)"
   ]
  },
  {
   "cell_type": "code",
   "execution_count": 5,
   "metadata": {},
   "outputs": [],
   "source": [
    "#Saving SalePrice\n",
    "train['SalePrice'] = np.log1p(train['SalePrice'])\n",
    "y = train['SalePrice'].reset_index(drop=True)"
   ]
  },
  {
   "cell_type": "code",
   "execution_count": 6,
   "metadata": {},
   "outputs": [],
   "source": [
    "#Concatenate train and test \n",
    "df = pd.concat([train, test]).reset_index(drop=True)"
   ]
  },
  {
   "cell_type": "code",
   "execution_count": 7,
   "metadata": {},
   "outputs": [],
   "source": [
    "#Remove SalePrice from df\n",
    "df = df.drop(['SalePrice'], axis=1)"
   ]
  },
  {
   "cell_type": "code",
   "execution_count": 8,
   "metadata": {},
   "outputs": [
    {
     "data": {
      "text/plain": [
       "(2919, 79)"
      ]
     },
     "execution_count": 8,
     "metadata": {},
     "output_type": "execute_result"
    }
   ],
   "source": [
    "#Check shape\n",
    "df.shape"
   ]
  },
  {
   "cell_type": "code",
   "execution_count": null,
   "metadata": {},
   "outputs": [],
   "source": []
  },
  {
   "cell_type": "code",
   "execution_count": 9,
   "metadata": {},
   "outputs": [],
   "source": [
    "#Function that split dataset to numerical and textual and check for missing values\n",
    "\n",
    "def missing_numcat(data, categorical=True):\n",
    "    \"\"\"This function splits dataset into numerical and textual portion of the data and make dataframe with missing values\"\"\"\n",
    "    if categorical:\n",
    "        categorical_text = data.select_dtypes(include='object')\n",
    "        categorical_cnt = categorical_text.count()\n",
    "        cat_with_missing = categorical_cnt[categorical_cnt.values < len(data)]\n",
    "        cat_percent =  (len(data) - cat_with_missing.values) / len(data)\n",
    "        missing_categorical =pd.DataFrame({'values': cat_with_missing,\n",
    "                                  'NaN vals':(len(data) - cat_with_missing.values), '(%) NaN':cat_percent})\n",
    "        return missing_categorical\n",
    "    else:\n",
    "        numerical_data = data._get_numeric_data()\n",
    "        numerical_cnt = numerical_data.count()\n",
    "        num_with_missing = numerical_cnt[numerical_cnt.values < len(data)]\n",
    "        num_percent =  (len(data) - num_with_missing.values) / len(data)\n",
    "        missing_numerical =pd.DataFrame({'values': num_with_missing,\n",
    "                                          'NaN vals':(len(data) - num_with_missing.values), '(%) NaN':num_percent}) \n",
    "        return missing_numerical\n",
    "    \n",
    "    \n",
    "    \n",
    "#Function that fixes skewnes\n",
    "from scipy.stats import skew\n",
    "def fix_skew(c):\n",
    "    \"\"\"This function takes only numeric portion of the dataset and fix skewnes\"\"\"\n",
    "    numeric_feats = c.dtypes[c.dtypes != \"object\"].index\n",
    "\n",
    "    skewed_feats = c[numeric_feats].apply(lambda x: skew(x.dropna())) #compute skewness\n",
    "    skewed_feats = skewed_feats[skewed_feats > 0.75]\n",
    "    skewed_feats = skewed_feats.index\n",
    "\n",
    "    c[skewed_feats] = np.log1p(c[skewed_feats])\n",
    "    return c "
   ]
  },
  {
   "cell_type": "code",
   "execution_count": 10,
   "metadata": {},
   "outputs": [
    {
     "data": {
      "text/html": [
       "<div>\n",
       "<style scoped>\n",
       "    .dataframe tbody tr th:only-of-type {\n",
       "        vertical-align: middle;\n",
       "    }\n",
       "\n",
       "    .dataframe tbody tr th {\n",
       "        vertical-align: top;\n",
       "    }\n",
       "\n",
       "    .dataframe thead th {\n",
       "        text-align: right;\n",
       "    }\n",
       "</style>\n",
       "<table border=\"1\" class=\"dataframe\">\n",
       "  <thead>\n",
       "    <tr style=\"text-align: right;\">\n",
       "      <th></th>\n",
       "      <th>values</th>\n",
       "      <th>NaN vals</th>\n",
       "      <th>(%) NaN</th>\n",
       "    </tr>\n",
       "  </thead>\n",
       "  <tbody>\n",
       "    <tr>\n",
       "      <td>Alley</td>\n",
       "      <td>198</td>\n",
       "      <td>2721</td>\n",
       "      <td>0.932169</td>\n",
       "    </tr>\n",
       "    <tr>\n",
       "      <td>BsmtCond</td>\n",
       "      <td>2837</td>\n",
       "      <td>82</td>\n",
       "      <td>0.028092</td>\n",
       "    </tr>\n",
       "    <tr>\n",
       "      <td>BsmtExposure</td>\n",
       "      <td>2837</td>\n",
       "      <td>82</td>\n",
       "      <td>0.028092</td>\n",
       "    </tr>\n",
       "    <tr>\n",
       "      <td>BsmtFinType1</td>\n",
       "      <td>2840</td>\n",
       "      <td>79</td>\n",
       "      <td>0.027064</td>\n",
       "    </tr>\n",
       "    <tr>\n",
       "      <td>BsmtFinType2</td>\n",
       "      <td>2839</td>\n",
       "      <td>80</td>\n",
       "      <td>0.027407</td>\n",
       "    </tr>\n",
       "    <tr>\n",
       "      <td>BsmtQual</td>\n",
       "      <td>2838</td>\n",
       "      <td>81</td>\n",
       "      <td>0.027749</td>\n",
       "    </tr>\n",
       "    <tr>\n",
       "      <td>Electrical</td>\n",
       "      <td>2918</td>\n",
       "      <td>1</td>\n",
       "      <td>0.000343</td>\n",
       "    </tr>\n",
       "    <tr>\n",
       "      <td>Exterior1st</td>\n",
       "      <td>2918</td>\n",
       "      <td>1</td>\n",
       "      <td>0.000343</td>\n",
       "    </tr>\n",
       "    <tr>\n",
       "      <td>Exterior2nd</td>\n",
       "      <td>2918</td>\n",
       "      <td>1</td>\n",
       "      <td>0.000343</td>\n",
       "    </tr>\n",
       "    <tr>\n",
       "      <td>Fence</td>\n",
       "      <td>571</td>\n",
       "      <td>2348</td>\n",
       "      <td>0.804385</td>\n",
       "    </tr>\n",
       "    <tr>\n",
       "      <td>FireplaceQu</td>\n",
       "      <td>1499</td>\n",
       "      <td>1420</td>\n",
       "      <td>0.486468</td>\n",
       "    </tr>\n",
       "    <tr>\n",
       "      <td>Functional</td>\n",
       "      <td>2917</td>\n",
       "      <td>2</td>\n",
       "      <td>0.000685</td>\n",
       "    </tr>\n",
       "    <tr>\n",
       "      <td>GarageCond</td>\n",
       "      <td>2760</td>\n",
       "      <td>159</td>\n",
       "      <td>0.054471</td>\n",
       "    </tr>\n",
       "    <tr>\n",
       "      <td>GarageFinish</td>\n",
       "      <td>2760</td>\n",
       "      <td>159</td>\n",
       "      <td>0.054471</td>\n",
       "    </tr>\n",
       "    <tr>\n",
       "      <td>GarageQual</td>\n",
       "      <td>2760</td>\n",
       "      <td>159</td>\n",
       "      <td>0.054471</td>\n",
       "    </tr>\n",
       "    <tr>\n",
       "      <td>GarageType</td>\n",
       "      <td>2762</td>\n",
       "      <td>157</td>\n",
       "      <td>0.053786</td>\n",
       "    </tr>\n",
       "    <tr>\n",
       "      <td>KitchenQual</td>\n",
       "      <td>2918</td>\n",
       "      <td>1</td>\n",
       "      <td>0.000343</td>\n",
       "    </tr>\n",
       "    <tr>\n",
       "      <td>MSZoning</td>\n",
       "      <td>2915</td>\n",
       "      <td>4</td>\n",
       "      <td>0.001370</td>\n",
       "    </tr>\n",
       "    <tr>\n",
       "      <td>MasVnrType</td>\n",
       "      <td>2895</td>\n",
       "      <td>24</td>\n",
       "      <td>0.008222</td>\n",
       "    </tr>\n",
       "    <tr>\n",
       "      <td>MiscFeature</td>\n",
       "      <td>105</td>\n",
       "      <td>2814</td>\n",
       "      <td>0.964029</td>\n",
       "    </tr>\n",
       "    <tr>\n",
       "      <td>PoolQC</td>\n",
       "      <td>10</td>\n",
       "      <td>2909</td>\n",
       "      <td>0.996574</td>\n",
       "    </tr>\n",
       "    <tr>\n",
       "      <td>SaleType</td>\n",
       "      <td>2918</td>\n",
       "      <td>1</td>\n",
       "      <td>0.000343</td>\n",
       "    </tr>\n",
       "    <tr>\n",
       "      <td>Utilities</td>\n",
       "      <td>2917</td>\n",
       "      <td>2</td>\n",
       "      <td>0.000685</td>\n",
       "    </tr>\n",
       "  </tbody>\n",
       "</table>\n",
       "</div>"
      ],
      "text/plain": [
       "              values  NaN vals   (%) NaN\n",
       "Alley            198      2721  0.932169\n",
       "BsmtCond        2837        82  0.028092\n",
       "BsmtExposure    2837        82  0.028092\n",
       "BsmtFinType1    2840        79  0.027064\n",
       "BsmtFinType2    2839        80  0.027407\n",
       "BsmtQual        2838        81  0.027749\n",
       "Electrical      2918         1  0.000343\n",
       "Exterior1st     2918         1  0.000343\n",
       "Exterior2nd     2918         1  0.000343\n",
       "Fence            571      2348  0.804385\n",
       "FireplaceQu     1499      1420  0.486468\n",
       "Functional      2917         2  0.000685\n",
       "GarageCond      2760       159  0.054471\n",
       "GarageFinish    2760       159  0.054471\n",
       "GarageQual      2760       159  0.054471\n",
       "GarageType      2762       157  0.053786\n",
       "KitchenQual     2918         1  0.000343\n",
       "MSZoning        2915         4  0.001370\n",
       "MasVnrType      2895        24  0.008222\n",
       "MiscFeature      105      2814  0.964029\n",
       "PoolQC            10      2909  0.996574\n",
       "SaleType        2918         1  0.000343\n",
       "Utilities       2917         2  0.000685"
      ]
     },
     "execution_count": 10,
     "metadata": {},
     "output_type": "execute_result"
    }
   ],
   "source": [
    "missing_numcat(df, categorical=True) #Before"
   ]
  },
  {
   "cell_type": "code",
   "execution_count": 11,
   "metadata": {},
   "outputs": [
    {
     "data": {
      "text/html": [
       "<div>\n",
       "<style scoped>\n",
       "    .dataframe tbody tr th:only-of-type {\n",
       "        vertical-align: middle;\n",
       "    }\n",
       "\n",
       "    .dataframe tbody tr th {\n",
       "        vertical-align: top;\n",
       "    }\n",
       "\n",
       "    .dataframe thead th {\n",
       "        text-align: right;\n",
       "    }\n",
       "</style>\n",
       "<table border=\"1\" class=\"dataframe\">\n",
       "  <thead>\n",
       "    <tr style=\"text-align: right;\">\n",
       "      <th></th>\n",
       "      <th>values</th>\n",
       "      <th>NaN vals</th>\n",
       "      <th>(%) NaN</th>\n",
       "    </tr>\n",
       "  </thead>\n",
       "  <tbody>\n",
       "    <tr>\n",
       "      <td>BsmtFinSF1</td>\n",
       "      <td>2918</td>\n",
       "      <td>1</td>\n",
       "      <td>0.000343</td>\n",
       "    </tr>\n",
       "    <tr>\n",
       "      <td>BsmtFinSF2</td>\n",
       "      <td>2918</td>\n",
       "      <td>1</td>\n",
       "      <td>0.000343</td>\n",
       "    </tr>\n",
       "    <tr>\n",
       "      <td>BsmtFullBath</td>\n",
       "      <td>2917</td>\n",
       "      <td>2</td>\n",
       "      <td>0.000685</td>\n",
       "    </tr>\n",
       "    <tr>\n",
       "      <td>BsmtHalfBath</td>\n",
       "      <td>2917</td>\n",
       "      <td>2</td>\n",
       "      <td>0.000685</td>\n",
       "    </tr>\n",
       "    <tr>\n",
       "      <td>BsmtUnfSF</td>\n",
       "      <td>2918</td>\n",
       "      <td>1</td>\n",
       "      <td>0.000343</td>\n",
       "    </tr>\n",
       "    <tr>\n",
       "      <td>GarageArea</td>\n",
       "      <td>2918</td>\n",
       "      <td>1</td>\n",
       "      <td>0.000343</td>\n",
       "    </tr>\n",
       "    <tr>\n",
       "      <td>GarageCars</td>\n",
       "      <td>2918</td>\n",
       "      <td>1</td>\n",
       "      <td>0.000343</td>\n",
       "    </tr>\n",
       "    <tr>\n",
       "      <td>GarageYrBlt</td>\n",
       "      <td>2760</td>\n",
       "      <td>159</td>\n",
       "      <td>0.054471</td>\n",
       "    </tr>\n",
       "    <tr>\n",
       "      <td>LotFrontage</td>\n",
       "      <td>2433</td>\n",
       "      <td>486</td>\n",
       "      <td>0.166495</td>\n",
       "    </tr>\n",
       "    <tr>\n",
       "      <td>MasVnrArea</td>\n",
       "      <td>2896</td>\n",
       "      <td>23</td>\n",
       "      <td>0.007879</td>\n",
       "    </tr>\n",
       "    <tr>\n",
       "      <td>TotalBsmtSF</td>\n",
       "      <td>2918</td>\n",
       "      <td>1</td>\n",
       "      <td>0.000343</td>\n",
       "    </tr>\n",
       "  </tbody>\n",
       "</table>\n",
       "</div>"
      ],
      "text/plain": [
       "              values  NaN vals   (%) NaN\n",
       "BsmtFinSF1      2918         1  0.000343\n",
       "BsmtFinSF2      2918         1  0.000343\n",
       "BsmtFullBath    2917         2  0.000685\n",
       "BsmtHalfBath    2917         2  0.000685\n",
       "BsmtUnfSF       2918         1  0.000343\n",
       "GarageArea      2918         1  0.000343\n",
       "GarageCars      2918         1  0.000343\n",
       "GarageYrBlt     2760       159  0.054471\n",
       "LotFrontage     2433       486  0.166495\n",
       "MasVnrArea      2896        23  0.007879\n",
       "TotalBsmtSF     2918         1  0.000343"
      ]
     },
     "execution_count": 11,
     "metadata": {},
     "output_type": "execute_result"
    }
   ],
   "source": [
    "missing_numcat(df, categorical=False)"
   ]
  },
  {
   "cell_type": "code",
   "execution_count": 12,
   "metadata": {},
   "outputs": [],
   "source": [
    "df['MSSubClass'] = df['MSSubClass'].apply(str)\n",
    "df['YrSold'] = df['YrSold'].astype(str)\n",
    "df['MoSold'] = df['MoSold'].astype(str)\n",
    "df['Functional'] = df['Functional'].fillna('Typ') \n",
    "df['Electrical'] = df['Electrical'].fillna(\"SBrkr\") \n",
    "df['KitchenQual'] = df['KitchenQual'].fillna(\"TA\") \n",
    "df[\"PoolQC\"] = df[\"PoolQC\"].fillna(\"None\")\n",
    "df['Exterior1st'] = df['Exterior1st'].fillna(df['Exterior1st'].mode()[0]) \n",
    "df['Exterior2nd'] = df['Exterior2nd'].fillna(df['Exterior2nd'].mode()[0])\n",
    "df['SaleType'] = df['SaleType'].fillna(df['SaleType'].mode()[0])"
   ]
  },
  {
   "cell_type": "code",
   "execution_count": 13,
   "metadata": {},
   "outputs": [],
   "source": [
    "#Garage\n",
    "df['GarageYrBlt'] = df['GarageYrBlt'].fillna(0)\n",
    "df['GarageArea'] = df['GarageArea'].fillna(0)\n",
    "df['GarageCars'] = df['GarageCars'].fillna(0)\n",
    "df['GarageType'] = df['GarageType'].fillna(\"None\")\n",
    "df['GarageFinish'] = df['GarageFinish'].fillna(\"None\")\n",
    "df['GarageQual'] = df['GarageQual'].fillna(\"None\")\n",
    "df['GarageCond'] = df['GarageCond'].fillna(\"None\")"
   ]
  },
  {
   "cell_type": "code",
   "execution_count": 14,
   "metadata": {},
   "outputs": [],
   "source": [
    "#Basement\n",
    "df['BsmtQual'] = df['BsmtQual'].fillna(\"None\")\n",
    "df['BsmtCond'] = df['BsmtCond'].fillna(\"None\")\n",
    "df['BsmtExposure'] = df['BsmtExposure'].fillna(\"None\")\n",
    "df['BsmtFinType1'] = df['BsmtFinSF1'].fillna(\"None\")\n",
    "df['BsmtFinType2'] = df['BsmtFinType2'].fillna(\"None\")"
   ]
  },
  {
   "cell_type": "code",
   "execution_count": 15,
   "metadata": {},
   "outputs": [],
   "source": [
    "#MSzoning\n",
    "df['MSZoning'] = df.groupby('MSSubClass')['MSZoning'].transform(lambda x: x.fillna(x.mode()[0]))"
   ]
  },
  {
   "cell_type": "code",
   "execution_count": 16,
   "metadata": {},
   "outputs": [],
   "source": [
    "#Fill none with categorical\n",
    "objects = []\n",
    "for i in df.columns:\n",
    "    if df[i].dtype == object:\n",
    "        objects.append(i)\n",
    "df.update(df[objects].fillna('None'))"
   ]
  },
  {
   "cell_type": "code",
   "execution_count": 17,
   "metadata": {},
   "outputs": [],
   "source": [
    "df['LotFrontage'] = df.groupby('Neighborhood')['LotFrontage'].transform(lambda x: x.fillna(x.median()))"
   ]
  },
  {
   "cell_type": "code",
   "execution_count": null,
   "metadata": {},
   "outputs": [],
   "source": []
  },
  {
   "cell_type": "code",
   "execution_count": 18,
   "metadata": {},
   "outputs": [],
   "source": [
    "#Fill Zero with numerical\n",
    "numeric_dtypes = ['int16', 'int32', 'int64', 'float16', 'float32', 'float64']\n",
    "numerics = []\n",
    "for i in df.columns:\n",
    "    if df[i].dtype in numeric_dtypes:\n",
    "        numerics.append(i)\n",
    "\n",
    "        df.update(df[numerics].fillna(0))"
   ]
  },
  {
   "cell_type": "raw",
   "metadata": {},
   "source": [
    "from scipy.special import boxcox1p\n",
    "from scipy.stats import boxcox_normmax\n",
    "#Fixing skewnes with numerical\n",
    "numeric_dtypes = ['int16', 'int32', 'int64', 'float16', 'float32', 'float64']\n",
    "numerics2 = []\n",
    "for i in df.columns:\n",
    "    if df[i].dtype in numeric_dtypes:\n",
    "        numerics2.append(i)\n",
    "skew_features = df[numerics2].apply(lambda x: skew(x)).sort_values(ascending=False)\n",
    "\n",
    "high_skew = skew_features[skew_features > 0.5]\n",
    "skew_index = high_skew.index\n",
    "\n",
    "for i in skew_index:\n",
    "    df[i] = boxcox1p(df[i], boxcox_normmax(df[i] + 1))"
   ]
  },
  {
   "cell_type": "code",
   "execution_count": 19,
   "metadata": {},
   "outputs": [],
   "source": [
    "#Function that fixes skewnes\n",
    "from scipy.stats import skew\n",
    "def fix_skew(c):\n",
    "    \"\"\"This function takes only numeric portion of the dataset and fix skewnes\"\"\"\n",
    "    numeric_feats = c.dtypes[c.dtypes != \"object\"].index\n",
    "\n",
    "    skewed_feats = c[numeric_feats].apply(lambda x: skew(x.dropna())) #compute skewness\n",
    "    skewed_feats = skewed_feats[skewed_feats > 0.5]\n",
    "    skewed_feats = skewed_feats.index\n",
    "\n",
    "    c[skewed_feats] = np.log1p(c[skewed_feats])\n",
    "    return c \n",
    "\n",
    "df = fix_skew(df)"
   ]
  },
  {
   "cell_type": "code",
   "execution_count": 20,
   "metadata": {},
   "outputs": [],
   "source": [
    "#Adding new features and drop non informative\n",
    "\n",
    "df = df.drop(['Utilities', 'Street', 'PoolQC',], axis=1)\n",
    "\n",
    "df['YrBltAndRemod']=df['YearBuilt']+df['YearRemodAdd']\n",
    "df['TotalSF']=df['TotalBsmtSF'] + df['1stFlrSF'] + df['2ndFlrSF']\n",
    "\n",
    "df['Total_sqr_footage'] = (df['BsmtFinSF1'] + df['BsmtFinSF2'] +\n",
    "                                 df['1stFlrSF'] + df['2ndFlrSF'])\n",
    "\n",
    "df['Total_Bathrooms'] = (df['FullBath'] + (0.5 * df['HalfBath']) +\n",
    "                               df['BsmtFullBath'] + (0.5 * df['BsmtHalfBath']))\n",
    "\n",
    "df['Total_porch_sf'] = (df['OpenPorchSF'] + df['3SsnPorch'] +\n",
    "                              df['EnclosedPorch'] + df['ScreenPorch'] +\n",
    "                              df['WoodDeckSF'])"
   ]
  },
  {
   "cell_type": "code",
   "execution_count": 21,
   "metadata": {},
   "outputs": [],
   "source": [
    "df['haspool'] = df['PoolArea'].apply(lambda x: 1 if x > 0 else 0)\n",
    "df['has2ndfloor'] = df['2ndFlrSF'].apply(lambda x: 1 if x > 0 else 0)\n",
    "df['hasgarage'] = df['GarageArea'].apply(lambda x: 1 if x > 0 else 0)\n",
    "df['hasbsmt'] = df['TotalBsmtSF'].apply(lambda x: 1 if x > 0 else 0)\n",
    "df['hasfireplace'] = df['Fireplaces'].apply(lambda x: 1 if x > 0 else 0)"
   ]
  },
  {
   "cell_type": "code",
   "execution_count": 22,
   "metadata": {},
   "outputs": [
    {
     "data": {
      "text/html": [
       "<div>\n",
       "<style scoped>\n",
       "    .dataframe tbody tr th:only-of-type {\n",
       "        vertical-align: middle;\n",
       "    }\n",
       "\n",
       "    .dataframe tbody tr th {\n",
       "        vertical-align: top;\n",
       "    }\n",
       "\n",
       "    .dataframe thead th {\n",
       "        text-align: right;\n",
       "    }\n",
       "</style>\n",
       "<table border=\"1\" class=\"dataframe\">\n",
       "  <thead>\n",
       "    <tr style=\"text-align: right;\">\n",
       "      <th></th>\n",
       "      <th>values</th>\n",
       "      <th>NaN vals</th>\n",
       "      <th>(%) NaN</th>\n",
       "    </tr>\n",
       "  </thead>\n",
       "  <tbody>\n",
       "  </tbody>\n",
       "</table>\n",
       "</div>"
      ],
      "text/plain": [
       "Empty DataFrame\n",
       "Columns: [values, NaN vals, (%) NaN]\n",
       "Index: []"
      ]
     },
     "execution_count": 22,
     "metadata": {},
     "output_type": "execute_result"
    }
   ],
   "source": [
    "#Check for missing values in categorical\n",
    "missing_numcat(df, categorical=True)"
   ]
  },
  {
   "cell_type": "code",
   "execution_count": 23,
   "metadata": {},
   "outputs": [
    {
     "data": {
      "text/html": [
       "<div>\n",
       "<style scoped>\n",
       "    .dataframe tbody tr th:only-of-type {\n",
       "        vertical-align: middle;\n",
       "    }\n",
       "\n",
       "    .dataframe tbody tr th {\n",
       "        vertical-align: top;\n",
       "    }\n",
       "\n",
       "    .dataframe thead th {\n",
       "        text-align: right;\n",
       "    }\n",
       "</style>\n",
       "<table border=\"1\" class=\"dataframe\">\n",
       "  <thead>\n",
       "    <tr style=\"text-align: right;\">\n",
       "      <th></th>\n",
       "      <th>values</th>\n",
       "      <th>NaN vals</th>\n",
       "      <th>(%) NaN</th>\n",
       "    </tr>\n",
       "  </thead>\n",
       "  <tbody>\n",
       "  </tbody>\n",
       "</table>\n",
       "</div>"
      ],
      "text/plain": [
       "Empty DataFrame\n",
       "Columns: [values, NaN vals, (%) NaN]\n",
       "Index: []"
      ]
     },
     "execution_count": 23,
     "metadata": {},
     "output_type": "execute_result"
    }
   ],
   "source": [
    "#Check for missing values in numerical\n",
    "missing_numcat(df, categorical=False)"
   ]
  },
  {
   "cell_type": "code",
   "execution_count": 24,
   "metadata": {},
   "outputs": [
    {
     "name": "stdout",
     "output_type": "stream",
     "text": [
      "(2919, 86)\n"
     ]
    }
   ],
   "source": [
    "#Check shape\n",
    "print(df.shape)"
   ]
  },
  {
   "cell_type": "code",
   "execution_count": 25,
   "metadata": {},
   "outputs": [],
   "source": [
    "#COnvert categorical values using dummy\n",
    "#final = pd.get_dummies(df).reset_index(drop=True)\n",
    "#final.shape\n",
    "final = df"
   ]
  },
  {
   "cell_type": "code",
   "execution_count": 26,
   "metadata": {},
   "outputs": [
    {
     "data": {
      "text/plain": [
       "((1460, 86), (1460,), (1459, 86))"
      ]
     },
     "execution_count": 26,
     "metadata": {},
     "output_type": "execute_result"
    }
   ],
   "source": [
    "X = final.iloc[:len(y), :]\n",
    "X_test = final.iloc[len(y):, :]\n",
    "X.shape, y.shape, X_test.shape"
   ]
  },
  {
   "cell_type": "code",
   "execution_count": 27,
   "metadata": {},
   "outputs": [],
   "source": [
    "outliers = [30, 88, 462, 631, 1322]\n",
    "X = X.drop(X.index[outliers])\n",
    "y = y.drop(y.index[outliers])\n",
    "\n",
    "overfit = []\n",
    "for i in X.columns:\n",
    "    counts = X[i].value_counts()\n",
    "    zeros = counts.iloc[0]\n",
    "    if zeros / len(X) * 100 > 99.94:\n",
    "        overfit.append(i)\n",
    "\n",
    "overfit = list(overfit)\n",
    "X = X.drop(overfit, axis=1)\n",
    "X_test = X_test.drop(overfit, axis=1)"
   ]
  },
  {
   "cell_type": "code",
   "execution_count": 28,
   "metadata": {},
   "outputs": [
    {
     "data": {
      "text/plain": [
       "((1455, 86), (1455,), (1459, 86))"
      ]
     },
     "execution_count": 28,
     "metadata": {},
     "output_type": "execute_result"
    }
   ],
   "source": [
    "X.shape, y.shape, X_test.shape"
   ]
  },
  {
   "cell_type": "code",
   "execution_count": 29,
   "metadata": {},
   "outputs": [],
   "source": [
    "#For stratification\n",
    "Z = pd.concat((X,y), axis=1)"
   ]
  },
  {
   "cell_type": "code",
   "execution_count": 30,
   "metadata": {},
   "outputs": [],
   "source": [
    "#Grids\n",
    "alphas_alt = [14.5, 14.6, 14.7, 14.8, 14.9, 15, 15.1, 15.2, 15.3, 15.4, 15.5]\n",
    "alphas2 = [5e-05, 0.0001, 0.0002, 0.0003, 0.0004, 0.0005, 0.0006, 0.0007, 0.0008]\n",
    "e_alphas = [0.0001, 0.0002, 0.0003, 0.0004, 0.0005, 0.0006, 0.0007]\n",
    "kfolds = KFold(n_splits=10, shuffle=True, random_state=42)\n",
    "e_l1ratio = [0.8, 0.85, 0.9, 0.95, 0.99, 1]"
   ]
  },
  {
   "cell_type": "code",
   "execution_count": 45,
   "metadata": {},
   "outputs": [],
   "source": [
    "#Split  training dataset to train and test set\n",
    "from sklearn.model_selection import train_test_split, StratifiedShuffleSplit\n",
    "#X_train, X_test, y_train, y_test = train_test_split(X, y, test_size=0.13, random_state=42)\n",
    "\n",
    "split = StratifiedShuffleSplit(n_splits=1, test_size=0.1, train_size=0.9, random_state=42)\n",
    "\n",
    "for train_index, test_index in split.split(Z, Z['Neighborhood']):\n",
    "    str_train = Z.iloc[train_index]\n",
    "    str_test   = Z.iloc[test_index]\n",
    "    \n",
    "\n",
    "y_train = str_train['SalePrice']\n",
    "y_ver  = str_test['SalePrice']\n",
    "X_train = str_train.drop('SalePrice', axis = 1)\n",
    "X_ver = str_test.drop('SalePrice', axis = 1)"
   ]
  },
  {
   "cell_type": "code",
   "execution_count": null,
   "metadata": {},
   "outputs": [],
   "source": []
  },
  {
   "cell_type": "code",
   "execution_count": 32,
   "metadata": {},
   "outputs": [],
   "source": [
    "from sklearn.pipeline import Pipeline\n",
    "from sklearn.preprocessing import StandardScaler, OneHotEncoder, MinMaxScaler, RobustScaler, Normalizer\n",
    "from sklearn.impute import SimpleImputer\n",
    "\n",
    "\n",
    "housing_num = X_train._get_numeric_data()\n",
    "housing_cat = X_train.select_dtypes('object')"
   ]
  },
  {
   "cell_type": "code",
   "execution_count": 33,
   "metadata": {},
   "outputs": [],
   "source": [
    "num_pipeline = Pipeline([\n",
    "    ('std_scal', RobustScaler()),\n",
    "])"
   ]
  },
  {
   "cell_type": "code",
   "execution_count": 34,
   "metadata": {},
   "outputs": [],
   "source": [
    "cat_pipeline = Pipeline([\n",
    "    ('one_hen', OneHotEncoder(handle_unknown='ignore')),\n",
    "])"
   ]
  },
  {
   "cell_type": "code",
   "execution_count": 35,
   "metadata": {},
   "outputs": [],
   "source": [
    "from sklearn.compose import ColumnTransformer\n",
    "from sklearn.impute import SimpleImputer\n",
    "num_attrs = housing_num.columns.tolist()\n",
    "cat_attrs = housing_cat.columns.tolist()\n",
    "full_pipeline = ColumnTransformer([\n",
    "    \n",
    "    ('numerical_pl', num_pipeline, num_attrs),\n",
    "    ('categorical_pl', cat_pipeline, cat_attrs ),\n",
    "])"
   ]
  },
  {
   "cell_type": "code",
   "execution_count": 36,
   "metadata": {},
   "outputs": [],
   "source": [
    "X_train_prepared = full_pipeline.fit_transform(X_train)\n",
    "X_ver_prepared = full_pipeline.transform(X_ver)\n",
    "test_prepared = full_pipeline.transform(X_test)"
   ]
  },
  {
   "cell_type": "code",
   "execution_count": 46,
   "metadata": {},
   "outputs": [
    {
     "data": {
      "text/plain": [
       "Ridge(alpha=1.0, copy_X=True, fit_intercept=True, max_iter=None, normalize=True,\n",
       "      random_state=None, solver='auto', tol=0.001)"
      ]
     },
     "execution_count": 46,
     "metadata": {},
     "output_type": "execute_result"
    }
   ],
   "source": [
    "from sklearn.linear_model import Ridge\n",
    "rdg = Ridge(normalize=True)\n",
    "rdg.fit(X_train_prepared, y_train)"
   ]
  },
  {
   "cell_type": "code",
   "execution_count": 47,
   "metadata": {},
   "outputs": [],
   "source": [
    "from sklearn.metrics import mean_squared_error, mean_squared_log_error\n",
    "def evaluate(X_train, y_train, X_test,y_test, clf):\n",
    "    clf_predict_train = clf.predict(X_train)\n",
    "    clf_predict_test = clf.predict(X_test)\n",
    "    clfmse_train = mean_squared_error(np.expm1(y_train), np.expm1(clf_predict_train))**0.5\n",
    "    clfmse_test = mean_squared_error(np.expm1(y_test), np.expm1(clf_predict_test))**0.5\n",
    "    clfrmse_train = mean_squared_log_error(np.expm1(y_train), np.expm1(clf_predict_train))**0.5\n",
    "    clfrmse_test = mean_squared_log_error(np.expm1(y_test), np.expm1(clf_predict_test))**0.5\n",
    "    print(\"Evaluate---\",\"***\", \"----\")\n",
    "    print(\"RMSE-train\",clfmse_train)\n",
    "    print(\"RMSE-test\", clfmse_test)\n",
    "    print(\"RMSLE-train\", clfrmse_train)\n",
    "    print(\"RMSLE-test\", clfrmse_test)"
   ]
  },
  {
   "cell_type": "code",
   "execution_count": 39,
   "metadata": {},
   "outputs": [
    {
     "name": "stdout",
     "output_type": "stream",
     "text": [
      "Evaluate--- *** ----\n",
      "RMSE-train 18469.012480965397\n",
      "RMSE-test 17641.01626873847\n",
      "RMSLE-train 0.08713682327818721\n",
      "RMSLE-test 0.09297340728403103\n"
     ]
    }
   ],
   "source": [
    "#Ridge\n",
    "evaluate(X_train_prepared, y_train, X_ver_prepared, y_ver,rdg)"
   ]
  },
  {
   "cell_type": "raw",
   "metadata": {},
   "source": [
    "Evaluate--- *** ----\n",
    "RMSE-train 15437.2109886892\n",
    "RMSE-test 17432.65257105804\n",
    "RMSLE-train 0.07642191554299589\n",
    "RMSLE-test 0.09522274997014804\n"
   ]
  },
  {
   "cell_type": "code",
   "execution_count": 40,
   "metadata": {},
   "outputs": [
    {
     "data": {
      "text/plain": [
       "Lasso(alpha=0.001, copy_X=True, fit_intercept=True, max_iter=1000,\n",
       "      normalize=False, positive=False, precompute=False, random_state=None,\n",
       "      selection='cyclic', tol=0.0001, warm_start=False)"
      ]
     },
     "execution_count": 40,
     "metadata": {},
     "output_type": "execute_result"
    }
   ],
   "source": [
    "from sklearn import linear_model\n",
    "lso = linear_model.Lasso(alpha=0.001)\n",
    "lso.fit(X_train_prepared, y_train)"
   ]
  },
  {
   "cell_type": "code",
   "execution_count": 41,
   "metadata": {},
   "outputs": [
    {
     "name": "stdout",
     "output_type": "stream",
     "text": [
      "Evaluate--- *** ----\n",
      "RMSE-train 26801.232910516483\n",
      "RMSE-test 18217.799279368377\n",
      "RMSLE-train 0.1131774038754014\n",
      "RMSLE-test 0.09416046894624212\n"
     ]
    }
   ],
   "source": [
    "#Lasso\n",
    "evaluate(X_train_prepared, y_train, X_ver_prepared, y_ver,lso)"
   ]
  },
  {
   "cell_type": "code",
   "execution_count": 42,
   "metadata": {},
   "outputs": [],
   "source": [
    "rf_predict = rdg.predict(test_prepared)"
   ]
  },
  {
   "cell_type": "code",
   "execution_count": 43,
   "metadata": {},
   "outputs": [
    {
     "data": {
      "text/plain": [
       "array([124729.62666005, 156365.18967631, 184457.22925148, ...,\n",
       "       170266.05541751, 113238.64463608, 221890.32025409])"
      ]
     },
     "execution_count": 43,
     "metadata": {},
     "output_type": "execute_result"
    }
   ],
   "source": [
    "rf_predict = np.expm1(rf_predict)\n",
    "rf_predict"
   ]
  },
  {
   "cell_type": "code",
   "execution_count": 44,
   "metadata": {},
   "outputs": [
    {
     "data": {
      "text/html": [
       "<div>\n",
       "<style scoped>\n",
       "    .dataframe tbody tr th:only-of-type {\n",
       "        vertical-align: middle;\n",
       "    }\n",
       "\n",
       "    .dataframe tbody tr th {\n",
       "        vertical-align: top;\n",
       "    }\n",
       "\n",
       "    .dataframe thead th {\n",
       "        text-align: right;\n",
       "    }\n",
       "</style>\n",
       "<table border=\"1\" class=\"dataframe\">\n",
       "  <thead>\n",
       "    <tr style=\"text-align: right;\">\n",
       "      <th></th>\n",
       "      <th>Id</th>\n",
       "      <th>SalePrice</th>\n",
       "    </tr>\n",
       "  </thead>\n",
       "  <tbody>\n",
       "    <tr>\n",
       "      <td>0</td>\n",
       "      <td>1461</td>\n",
       "      <td>124729.626660</td>\n",
       "    </tr>\n",
       "    <tr>\n",
       "      <td>1</td>\n",
       "      <td>1462</td>\n",
       "      <td>156365.189676</td>\n",
       "    </tr>\n",
       "    <tr>\n",
       "      <td>2</td>\n",
       "      <td>1463</td>\n",
       "      <td>184457.229251</td>\n",
       "    </tr>\n",
       "    <tr>\n",
       "      <td>3</td>\n",
       "      <td>1464</td>\n",
       "      <td>197708.345803</td>\n",
       "    </tr>\n",
       "    <tr>\n",
       "      <td>4</td>\n",
       "      <td>1465</td>\n",
       "      <td>201376.210885</td>\n",
       "    </tr>\n",
       "    <tr>\n",
       "      <td>...</td>\n",
       "      <td>...</td>\n",
       "      <td>...</td>\n",
       "    </tr>\n",
       "    <tr>\n",
       "      <td>1454</td>\n",
       "      <td>2915</td>\n",
       "      <td>84935.930598</td>\n",
       "    </tr>\n",
       "    <tr>\n",
       "      <td>1455</td>\n",
       "      <td>2916</td>\n",
       "      <td>77857.566757</td>\n",
       "    </tr>\n",
       "    <tr>\n",
       "      <td>1456</td>\n",
       "      <td>2917</td>\n",
       "      <td>170266.055418</td>\n",
       "    </tr>\n",
       "    <tr>\n",
       "      <td>1457</td>\n",
       "      <td>2918</td>\n",
       "      <td>113238.644636</td>\n",
       "    </tr>\n",
       "    <tr>\n",
       "      <td>1458</td>\n",
       "      <td>2919</td>\n",
       "      <td>221890.320254</td>\n",
       "    </tr>\n",
       "  </tbody>\n",
       "</table>\n",
       "<p>1459 rows × 2 columns</p>\n",
       "</div>"
      ],
      "text/plain": [
       "        Id      SalePrice\n",
       "0     1461  124729.626660\n",
       "1     1462  156365.189676\n",
       "2     1463  184457.229251\n",
       "3     1464  197708.345803\n",
       "4     1465  201376.210885\n",
       "...    ...            ...\n",
       "1454  2915   84935.930598\n",
       "1455  2916   77857.566757\n",
       "1456  2917  170266.055418\n",
       "1457  2918  113238.644636\n",
       "1458  2919  221890.320254\n",
       "\n",
       "[1459 rows x 2 columns]"
      ]
     },
     "execution_count": 44,
     "metadata": {},
     "output_type": "execute_result"
    }
   ],
   "source": [
    "final_df= pd.DataFrame(data=zip(Id_test,rf_predict), columns=['Id', 'SalePrice'])\n",
    "final_df.to_csv('zillow/sample_submission.csv', index=False, columns=['Id', 'SalePrice'])\n",
    "pd.read_csv('zillow/sample_submission.csv')\n",
    "final_df"
   ]
  },
  {
   "cell_type": "code",
   "execution_count": null,
   "metadata": {},
   "outputs": [],
   "source": []
  },
  {
   "cell_type": "code",
   "execution_count": null,
   "metadata": {},
   "outputs": [],
   "source": []
  }
 ],
 "metadata": {
  "kernelspec": {
   "display_name": "Python 3",
   "language": "python",
   "name": "python3"
  },
  "language_info": {
   "codemirror_mode": {
    "name": "ipython",
    "version": 3
   },
   "file_extension": ".py",
   "mimetype": "text/x-python",
   "name": "python",
   "nbconvert_exporter": "python",
   "pygments_lexer": "ipython3",
   "version": "3.7.3"
  }
 },
 "nbformat": 4,
 "nbformat_minor": 2
}
